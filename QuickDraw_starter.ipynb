{
 "cells": [
  {
   "cell_type": "code",
   "execution_count": 4,
   "metadata": {
    "colab": {
     "base_uri": "https://localhost:8080/",
     "height": 237
    },
    "colab_type": "code",
    "id": "CxpafRfNXddC",
    "outputId": "15d645c8-73ff-498a-c86f-1f3aa3fe5594"
   },
   "outputs": [
    {
     "name": "stdout",
     "output_type": "stream",
     "text": [
      "Cloning into 'fastai'...\n",
      "remote: Enumerating objects: 13, done.\u001b[K\n",
      "remote: Counting objects: 100% (13/13), done.\u001b[K\n",
      "remote: Compressing objects: 100% (12/12), done.\u001b[K\n",
      "remote: Total 17292 (delta 3), reused 3 (delta 1), pack-reused 17279\u001b[K\n",
      "Receiving objects: 100% (17292/17292), 304.60 MiB | 12.48 MiB/s, done.\n",
      "Resolving deltas: 100% (11745/11745), done.\n",
      "Checking out files: 100% (697/697), done.\n",
      "tcmalloc: large alloc 1073750016 bytes == 0x58fb4000 @  0x7f9a96e642a4 0x591a07 0x5b5d56 0x502e9a 0x506859 0x502209 0x502f3d 0x506859 0x504c28 0x502540 0x502f3d 0x506859 0x504c28 0x502540 0x502f3d 0x506859 0x504c28 0x502540 0x502f3d 0x507641 0x502209 0x502f3d 0x506859 0x504c28 0x502540 0x502f3d 0x507641 0x504c28 0x502540 0x502f3d 0x507641\n",
      "0.4.1\n"
     ]
    },
    {
     "data": {
      "text/plain": [
       "(True, True)"
      ]
     },
     "execution_count": 4,
     "metadata": {
      "tags": []
     },
     "output_type": "execute_result"
    }
   ],
   "source": [
    "# fastai 0.7.0\n",
    "!mkdir src -p && cd src && git clone https://github.com/fastai/fastai.git\n",
    "!pip3 install -q bcolz graphviz sklearn_pandas isoweek pandas_summary ipywidgets torch torchvision torchtext"
   ]
  },
  {
   "cell_type": "code",
   "execution_count": 3,
   "metadata": {
    "colab": {
     "base_uri": "https://localhost:8080/",
     "height": 54
    },
    "colab_type": "code",
    "id": "F4Ca79ikqDiV",
    "outputId": "e16965c0-c487-40e1-a65e-c045e6e61da5"
   },
   "outputs": [
    {
     "name": "stdout",
     "output_type": "stream",
     "text": [
      "0.4.1\n"
     ]
    },
    {
     "data": {
      "text/plain": [
       "(True, True)"
      ]
     },
     "execution_count": 3,
     "metadata": {
      "tags": []
     },
     "output_type": "execute_result"
    }
   ],
   "source": [
    "import sys\n",
    "sys.path.append(\"/content/src/fastai/old\") # on windows use \\'s instead\n",
    "from fastai.conv_learner import *\n",
    "from fastai.dataset import *\n",
    "import gc\n",
    "print(torch.__version__)\n",
    "torch.backends.cudnn.benchmark=True\n",
    "torch.cuda.is_available(), torch.backends.cudnn.enabled"
   ]
  },
  {
   "cell_type": "code",
   "execution_count": 0,
   "metadata": {
    "colab": {},
    "colab_type": "code",
    "id": "RUNwlLO6XdgL"
   },
   "outputs": [],
   "source": [
    "!git config --global user.email 'nikshuang@163.com'\n",
    "!git config --global user.name 'Alex Huang'\n",
    "!pip install -q kaggle"
   ]
  },
  {
   "cell_type": "code",
   "execution_count": 0,
   "metadata": {
    "colab": {},
    "colab_type": "code",
    "id": "aBr0TxKdYLjl"
   },
   "outputs": [],
   "source": [
    "PATH = Path('data/quick_draw')\n",
    "TRN_TXT_PATH = PATH/'txt'\n",
    "TRN_PATH = PATH/'train'\n",
    "TEST_PATH = PATH/'test'\n",
    "DISK_PATH = 'drive/quick_draw'\n",
    "os.makedirs(DISK_PATH, exist_ok=True)\n",
    "os.makedirs(PATH, exist_ok=True)\n",
    "os.makedirs(TRN_PATH, exist_ok=True)\n",
    "os.makedirs(TEST_PATH, exist_ok=True)\n",
    "os.makedirs(TRN_TXT_PATH, exist_ok=True)"
   ]
  },
  {
   "cell_type": "code",
   "execution_count": 8,
   "metadata": {
    "colab": {
     "base_uri": "https://localhost:8080/",
     "height": 163
    },
    "colab_type": "code",
    "id": "scB_smh8Y4FZ",
    "outputId": "a5439f96-9c62-4c9c-efa5-b237a101369b"
   },
   "outputs": [
    {
     "name": "stdout",
     "output_type": "stream",
     "text": [
      "Downloading test_simplified.csv to data/quick_draw\n",
      " 90% 53.0M/59.0M [00:00<00:00, 47.5MB/s]\n",
      "100% 59.0M/59.0M [00:00<00:00, 77.4MB/s]\n",
      "Downloading train_simplified.zip to data/quick_draw\n",
      "100% 7.37G/7.37G [01:52<00:00, 117MB/s]\n",
      "100% 7.37G/7.37G [01:52<00:00, 70.3MB/s]\n",
      "/bin/bash: -c: line 0: unexpected EOF while looking for matching `''\n",
      "/bin/bash: -c: line 1: syntax error: unexpected end of file\n"
     ]
    }
   ],
   "source": [
    "!kaggle competitions download -c quickdraw-doodle-recognition -f test_simplified.csv -p {PATH}\n",
    "!kaggle competitions download -c quickdraw-doodle-recognition -f train_simplified.zip -p {PATH}\n",
    "!unzip -q {PATH}/train_simplified.zip -d {TRN_PATH}"
   ]
  },
  {
   "cell_type": "markdown",
   "metadata": {
    "colab_type": "text",
    "id": "Z5sNJtPHRxD2"
   },
   "source": [
    "### Prepare data"
   ]
  },
  {
   "cell_type": "code",
   "execution_count": 16,
   "metadata": {
    "colab": {
     "base_uri": "https://localhost:8080/",
     "height": 54
    },
    "colab_type": "code",
    "id": "7k5DEGoRTGsa",
    "outputId": "3ff3b2d1-932f-434e-db4b-860621705bf2"
   },
   "outputs": [
    {
     "name": "stdout",
     "output_type": "stream",
     "text": [
      "CPU times: user 5min 58s, sys: 24.5 s, total: 6min 22s\n",
      "Wall time: 5min 31s\n"
     ]
    }
   ],
   "source": [
    "%%time\n",
    "def get_count(path): return (path.stem, pd.read_csv(path).shape[0])\n",
    "with ThreadPoolExecutor(2) as e: counts = list(e.map(get_count, TRN_PATH.iterdir()))"
   ]
  },
  {
   "cell_type": "code",
   "execution_count": 0,
   "metadata": {
    "colab": {},
    "colab_type": "code",
    "id": "UWufBbJUR4Vl"
   },
   "outputs": [],
   "source": [
    "counts = sorted(counts, key=lambda x: x[1])"
   ]
  },
  {
   "cell_type": "code",
   "execution_count": 28,
   "metadata": {
    "colab": {
     "base_uri": "https://localhost:8080/",
     "height": 336
    },
    "colab_type": "code",
    "id": "BI2KjuDxuisP",
    "outputId": "2e7d5f35-edd0-43ec-cc7c-567fe2707797"
   },
   "outputs": [
    {
     "data": {
      "image/png": "[encoded data removed]",
      "text/plain": [
       "<matplotlib.figure.Figure at 0x7f0be6051198>"
      ]
     },
     "metadata": {
      "tags": []
     },
     "output_type": "display_data"
    }
   ],
   "source": [
    "plt.bar([o[0] for o in counts], [o[1] for o in counts])\n",
    "plt.xticks([])\n",
    "fig = plt.gcf()"
   ]
  },
  {
   "cell_type": "code",
   "execution_count": 48,
   "metadata": {
    "colab": {
     "base_uri": "https://localhost:8080/",
     "height": 35
    },
    "colab_type": "code",
    "id": "ta7_6oslX999",
    "outputId": "8bfafe06-e932-472f-c396-7e8598e4d910"
   },
   "outputs": [
    {
     "data": {
      "text/plain": [
       "(340, ('panda', 113613), ('snowman', 340029), 146198)"
      ]
     },
     "execution_count": 48,
     "metadata": {
      "tags": []
     },
     "output_type": "execute_result"
    }
   ],
   "source": [
    "len(counts), counts[0], counts[-1], np.mean([o[1] for o in counts]).astype(np.int)"
   ]
  },
  {
   "cell_type": "code",
   "execution_count": 43,
   "metadata": {
    "colab": {
     "base_uri": "https://localhost:8080/",
     "height": 198
    },
    "colab_type": "code",
    "id": "xhSRgTZLZ7sl",
    "outputId": "27e3df11-5450-42fc-f703-5d876b8c4db2"
   },
   "outputs": [
    {
     "data": {
      "text/html": [
       "<div>\n",
       "<style scoped>\n",
       "    .dataframe tbody tr th:only-of-type {\n",
       "        vertical-align: middle;\n",
       "    }\n",
       "\n",
       "    .dataframe tbody tr th {\n",
       "        vertical-align: top;\n",
       "    }\n",
       "\n",
       "    .dataframe thead th {\n",
       "        text-align: right;\n",
       "    }\n",
       "</style>\n",
       "<table border=\"1\" class=\"dataframe\">\n",
       "  <thead>\n",
       "    <tr style=\"text-align: right;\">\n",
       "      <th></th>\n",
       "      <th>countrycode</th>\n",
       "      <th>drawing</th>\n",
       "      <th>key_id</th>\n",
       "      <th>recognized</th>\n",
       "      <th>timestamp</th>\n",
       "      <th>word</th>\n",
       "    </tr>\n",
       "  </thead>\n",
       "  <tbody>\n",
       "    <tr>\n",
       "      <th>0</th>\n",
       "      <td>US</td>\n",
       "      <td>[[[132, 106, 81, 66, 40, 20, 18, 37, 60, 72, 1...</td>\n",
       "      <td>5453565080371200</td>\n",
       "      <td>True</td>\n",
       "      <td>2017-03-13 16:53:48.790980</td>\n",
       "      <td>panda</td>\n",
       "    </tr>\n",
       "    <tr>\n",
       "      <th>1</th>\n",
       "      <td>BR</td>\n",
       "      <td>[[[90, 72, 50, 17, 6, 0, 0, 4, 48, 136, 161, 2...</td>\n",
       "      <td>5965556941324288</td>\n",
       "      <td>False</td>\n",
       "      <td>2017-03-09 16:19:44.633780</td>\n",
       "      <td>panda</td>\n",
       "    </tr>\n",
       "    <tr>\n",
       "      <th>2</th>\n",
       "      <td>BR</td>\n",
       "      <td>[[[185, 148, 133, 116, 97, 61, 34, 34, 45, 57,...</td>\n",
       "      <td>6307234680143872</td>\n",
       "      <td>True</td>\n",
       "      <td>2017-01-26 00:21:17.363700</td>\n",
       "      <td>panda</td>\n",
       "    </tr>\n",
       "    <tr>\n",
       "      <th>3</th>\n",
       "      <td>US</td>\n",
       "      <td>[[[149, 122, 97, 72, 59, 35, 26, 18, 17, 21, 2...</td>\n",
       "      <td>4625715938983936</td>\n",
       "      <td>True</td>\n",
       "      <td>2017-03-23 17:55:31.427700</td>\n",
       "      <td>panda</td>\n",
       "    </tr>\n",
       "    <tr>\n",
       "      <th>4</th>\n",
       "      <td>US</td>\n",
       "      <td>[[[110, 63, 45, 30, 9, 1, 1, 15, 30, 59, 94, 1...</td>\n",
       "      <td>5116330174840832</td>\n",
       "      <td>True</td>\n",
       "      <td>2017-01-26 16:13:48.454190</td>\n",
       "      <td>panda</td>\n",
       "    </tr>\n",
       "  </tbody>\n",
       "</table>\n",
       "</div>"
      ],
      "text/plain": [
       "  countrycode                                            drawing  \\\n",
       "0          US  [[[132, 106, 81, 66, 40, 20, 18, 37, 60, 72, 1...   \n",
       "1          BR  [[[90, 72, 50, 17, 6, 0, 0, 4, 48, 136, 161, 2...   \n",
       "2          BR  [[[185, 148, 133, 116, 97, 61, 34, 34, 45, 57,...   \n",
       "3          US  [[[149, 122, 97, 72, 59, 35, 26, 18, 17, 21, 2...   \n",
       "4          US  [[[110, 63, 45, 30, 9, 1, 1, 15, 30, 59, 94, 1...   \n",
       "\n",
       "             key_id  recognized                   timestamp   word  \n",
       "0  5453565080371200        True  2017-03-13 16:53:48.790980  panda  \n",
       "1  5965556941324288       False  2017-03-09 16:19:44.633780  panda  \n",
       "2  6307234680143872        True  2017-01-26 00:21:17.363700  panda  \n",
       "3  4625715938983936        True  2017-03-23 17:55:31.427700  panda  \n",
       "4  5116330174840832        True  2017-01-26 16:13:48.454190  panda  "
      ]
     },
     "execution_count": 43,
     "metadata": {
      "tags": []
     },
     "output_type": "execute_result"
    }
   ],
   "source": [
    "df = pd.read_csv(TRN_PATH/'panda.csv')\n",
    "df.head()"
   ]
  },
  {
   "cell_type": "code",
   "execution_count": 41,
   "metadata": {
    "colab": {
     "base_uri": "https://localhost:8080/",
     "height": 198
    },
    "colab_type": "code",
    "id": "5FIsn9HY4d-g",
    "outputId": "c454bff9-623b-494e-ccd5-efc31cabbc91"
   },
   "outputs": [
    {
     "data": {
      "text/html": [
       "<div>\n",
       "<style scoped>\n",
       "    .dataframe tbody tr th:only-of-type {\n",
       "        vertical-align: middle;\n",
       "    }\n",
       "\n",
       "    .dataframe tbody tr th {\n",
       "        vertical-align: top;\n",
       "    }\n",
       "\n",
       "    .dataframe thead th {\n",
       "        text-align: right;\n",
       "    }\n",
       "</style>\n",
       "<table border=\"1\" class=\"dataframe\">\n",
       "  <thead>\n",
       "    <tr style=\"text-align: right;\">\n",
       "      <th></th>\n",
       "      <th>key_id</th>\n",
       "      <th>countrycode</th>\n",
       "      <th>drawing</th>\n",
       "    </tr>\n",
       "  </thead>\n",
       "  <tbody>\n",
       "    <tr>\n",
       "      <th>0</th>\n",
       "      <td>9000003627287624</td>\n",
       "      <td>DE</td>\n",
       "      <td>[[[17, 18, 20, 25, 137, 174, 242, 249, 251, 25...</td>\n",
       "    </tr>\n",
       "    <tr>\n",
       "      <th>1</th>\n",
       "      <td>9000010688666847</td>\n",
       "      <td>UA</td>\n",
       "      <td>[[[174, 145, 106, 38, 11, 4, 4, 15, 29, 78, 16...</td>\n",
       "    </tr>\n",
       "    <tr>\n",
       "      <th>2</th>\n",
       "      <td>9000023642890129</td>\n",
       "      <td>BG</td>\n",
       "      <td>[[[0, 12, 14, 17, 16, 24, 55, 57, 60, 79, 82, ...</td>\n",
       "    </tr>\n",
       "    <tr>\n",
       "      <th>3</th>\n",
       "      <td>9000038588854897</td>\n",
       "      <td>US</td>\n",
       "      <td>[[[0, 9, 23, 40, 54, 60, 81, 105, 123, 167, 20...</td>\n",
       "    </tr>\n",
       "    <tr>\n",
       "      <th>4</th>\n",
       "      <td>9000052667981386</td>\n",
       "      <td>AR</td>\n",
       "      <td>[[[87, 82, 71, 63, 66, 92, 96, 95], [220, 218,...</td>\n",
       "    </tr>\n",
       "  </tbody>\n",
       "</table>\n",
       "</div>"
      ],
      "text/plain": [
       "             key_id countrycode  \\\n",
       "0  9000003627287624          DE   \n",
       "1  9000010688666847          UA   \n",
       "2  9000023642890129          BG   \n",
       "3  9000038588854897          US   \n",
       "4  9000052667981386          AR   \n",
       "\n",
       "                                             drawing  \n",
       "0  [[[17, 18, 20, 25, 137, 174, 242, 249, 251, 25...  \n",
       "1  [[[174, 145, 106, 38, 11, 4, 4, 15, 29, 78, 16...  \n",
       "2  [[[0, 12, 14, 17, 16, 24, 55, 57, 60, 79, 82, ...  \n",
       "3  [[[0, 9, 23, 40, 54, 60, 81, 105, 123, 167, 20...  \n",
       "4  [[[87, 82, 71, 63, 66, 92, 96, 95], [220, 218,...  "
      ]
     },
     "execution_count": 41,
     "metadata": {
      "tags": []
     },
     "output_type": "execute_result"
    }
   ],
   "source": [
    "df2 = pd.read_csv(PATH/'test_simplified.csv')\n",
    "df2.head()"
   ]
  },
  {
   "cell_type": "code",
   "execution_count": 0,
   "metadata": {
    "colab": {},
    "colab_type": "code",
    "id": "S-wxpUQXZDmi"
   },
   "outputs": [],
   "source": [
    "# https://www.kaggle.com/gaborfodor/greyscale-mobilenet-lb-0-892\n",
    "BASE_SIZE = 256\n",
    "\n",
    "def draw_cv2(raw_strokes, size=128, lw=6, time_color=False):\n",
    "    img = np.zeros((BASE_SIZE, BASE_SIZE), np.uint8)\n",
    "    for t, stroke in enumerate(raw_strokes):\n",
    "        for i in range(len(stroke[0]) - 1):\n",
    "            color = 255 - min(t, 10) * 13 if time_color else 255\n",
    "            _ = cv2.line(img, (stroke[0][i], stroke[1][i]),\n",
    "                         (stroke[0][i + 1], stroke[1][i + 1]), color, lw)\n",
    "    img = cv2.copyMakeBorder(img, 4, 4, 4, 4, cv2.BORDER_CONSTANT)\n",
    "    if size != BASE_SIZE:\n",
    "        return cv2.resize(img, (size, size), interpolation=cv2.INTER_LINEAR)\n",
    "    return img"
   ]
  },
  {
   "cell_type": "code",
   "execution_count": 68,
   "metadata": {
    "colab": {
     "base_uri": "https://localhost:8080/",
     "height": 436
    },
    "colab_type": "code",
    "id": "sKppm7Ng1n7I",
    "outputId": "e84fff93-ab30-4cdc-f258-02edc0f7ac5a"
   },
   "outputs": [
    {
     "data": {
      "image/png": "[encoded data removed]",
      "text/plain": [
       "<matplotlib.figure.Figure at 0x7f0be79f52e8>"
      ]
     },
     "metadata": {
      "tags": []
     },
     "output_type": "display_data"
    }
   ],
   "source": [
    "fig, axes = plt.subplots(3, 4, figsize=(8, 6))\n",
    "\n",
    "for i, ax in enumerate(axes.flat):\n",
    "    ax.imshow(draw_cv2(eval(df.loc[i, 'drawing'])))\n",
    "plt.tight_layout()"
   ]
  },
  {
   "cell_type": "code",
   "execution_count": 0,
   "metadata": {
    "colab": {},
    "colab_type": "code",
    "id": "y5_OTxYL0k55"
   },
   "outputs": [],
   "source": [
    "r = 0.01  # a total of about 500k images\n",
    "k = 1500  # a total of 510k images\n",
    "sz = 128\n",
    "mn = f'mobilenet_{sz}sz_{k}'\n",
    "dn = f'quickdraw_data_{sz}sz_{k}.tar.bz2'\n",
    "FN_PKL = f'fnames_{sz}sz_{k}.pkl'\n",
    "VAL_PKL = f'val_idxs_{sz}sz_{k}.pkl'"
   ]
  },
  {
   "cell_type": "code",
   "execution_count": 0,
   "metadata": {
    "colab": {},
    "colab_type": "code",
    "id": "AlUJSG_-g1N3"
   },
   "outputs": [],
   "source": [
    "def df_to_ims(path):\n",
    "    df = pd.read_csv(path, nrows=k)\n",
    "    kids = df.key_id.values\n",
    "    drawings = df.drawing.values\n",
    "    words = np.array(['_'.join(o.split()) for o in df.word.values])\n",
    "    for kid, drawing, word in zip(kids, drawings, words):\n",
    "        img = draw_cv2(eval(drawing), size=sz)\n",
    "        img_rgb = np.repeat(img[:, :, None], 3, -1)\n",
    "        fpth = PATH/f'train_{sz}/{word}/{kid}.png'\n",
    "        os.makedirs(str(fpth.parent), exist_ok=True)\n",
    "        plt.imsave(str(fpth), img_rgb)"
   ]
  },
  {
   "cell_type": "code",
   "execution_count": 0,
   "metadata": {
    "colab": {},
    "colab_type": "code",
    "id": "jF2H_kgxPErh"
   },
   "outputs": [],
   "source": [
    "df_to_ims(TRN_PATH/'apple.csv')"
   ]
  },
  {
   "cell_type": "code",
   "execution_count": 71,
   "metadata": {
    "colab": {
     "base_uri": "https://localhost:8080/",
     "height": 72
    },
    "colab_type": "code",
    "id": "peME9Ux4PPQz",
    "outputId": "f7704c1d-c727-4261-825a-4ea161ec3d2f"
   },
   "outputs": [
    {
     "name": "stdout",
     "output_type": "stream",
     "text": [
      "4504363701633024.png\n",
      "4505040377085952.png\n",
      "4505772249579520.png\n"
     ]
    }
   ],
   "source": [
    "!ls {PATH}/train_128/apple | head -3"
   ]
  },
  {
   "cell_type": "code",
   "execution_count": 77,
   "metadata": {
    "colab": {
     "base_uri": "https://localhost:8080/",
     "height": 368
    },
    "colab_type": "code",
    "id": "mBabyVH1Ph96",
    "outputId": "ec0e6e6e-9b62-4e25-a987-ae70ae80a563"
   },
   "outputs": [
    {
     "data": {
      "text/plain": [
       "<matplotlib.image.AxesImage at 0x7f0bea63d710>"
      ]
     },
     "execution_count": 77,
     "metadata": {
      "tags": []
     },
     "output_type": "execute_result"
    },
    {
     "data": {
      "image/png": "[encoded data removed]",
      "text/plain": [
       "<matplotlib.figure.Figure at 0x7f0be764b6a0>"
      ]
     },
     "metadata": {
      "tags": []
     },
     "output_type": "display_data"
    }
   ],
   "source": [
    "img = plt.imread(str(PATH/'train_128/apple/4505772249579520.png'))\n",
    "plt.imshow(img)"
   ]
  },
  {
   "cell_type": "code",
   "execution_count": 78,
   "metadata": {
    "colab": {
     "base_uri": "https://localhost:8080/",
     "height": 54
    },
    "colab_type": "code",
    "id": "_ZDAjTIXmQTS",
    "outputId": "fe395f20-bb41-4d63-a557-48c888f654d9"
   },
   "outputs": [
    {
     "name": "stdout",
     "output_type": "stream",
     "text": [
      "CPU times: user 31min 20s, sys: 2min 56s, total: 34min 17s\n",
      "Wall time: 25min 32s\n"
     ]
    }
   ],
   "source": [
    "%%time\n",
    "shutil.rmtree(PATH/f'train_{sz}', ignore_errors=True)\n",
    "os.makedirs(PATH/f'train_{sz}', exist_ok=True)\n",
    "with ThreadPoolExecutor(2) as e: e.map(df_to_ims, TRN_PATH.iterdir())"
   ]
  },
  {
   "cell_type": "code",
   "execution_count": 0,
   "metadata": {
    "colab": {},
    "colab_type": "code",
    "id": "NGlcXF7G_yBU"
   },
   "outputs": [],
   "source": [
    "def test_df_to_ims(path):\n",
    "    df = pd.read_csv(path)\n",
    "    kids = df.key_id.values\n",
    "    drawings = df.drawing.values\n",
    "    for kid, drawing in zip(kids, drawings):\n",
    "        img = draw_cv2(eval(drawing), size=sz)\n",
    "        img_rgb = np.repeat(img[:, :, None], 3, -1)\n",
    "        plt.imsave(str(PATH/f'test_{sz}/{kid}.png'), img_rgb)"
   ]
  },
  {
   "cell_type": "code",
   "execution_count": 80,
   "metadata": {
    "colab": {
     "base_uri": "https://localhost:8080/",
     "height": 54
    },
    "colab_type": "code",
    "id": "ByNbalk5AiiK",
    "outputId": "2ddd49e3-d4f9-49d4-a142-a74fde42980e"
   },
   "outputs": [
    {
     "name": "stdout",
     "output_type": "stream",
     "text": [
      "CPU times: user 5min 6s, sys: 8.01 s, total: 5min 14s\n",
      "Wall time: 5min 15s\n"
     ]
    }
   ],
   "source": [
    "%%time\n",
    "shutil.rmtree(PATH/f'test_{sz}', ignore_errors=True)\n",
    "os.makedirs(PATH/f'test_{sz}', exist_ok=True)\n",
    "test_df_to_ims(PATH/'test_simplified.csv')"
   ]
  },
  {
   "cell_type": "code",
   "execution_count": 81,
   "metadata": {
    "colab": {
     "base_uri": "https://localhost:8080/",
     "height": 72
    },
    "colab_type": "code",
    "id": "OYZQn0CvYPg2",
    "outputId": "8a7867ec-f45c-4e3f-867e-147f7bf4a19f"
   },
   "outputs": [
    {
     "name": "stdout",
     "output_type": "stream",
     "text": [
      "9000003627287624.png\n",
      "9000010688666847.png\n",
      "9000023642890129.png\n"
     ]
    }
   ],
   "source": [
    "!ls {PATH}/test_128 | head -3"
   ]
  },
  {
   "cell_type": "code",
   "execution_count": 82,
   "metadata": {
    "colab": {
     "base_uri": "https://localhost:8080/",
     "height": 368
    },
    "colab_type": "code",
    "id": "5H74p6jCYYPR",
    "outputId": "c91e31a9-8706-459c-f2dd-2fe1cbae71cf"
   },
   "outputs": [
    {
     "data": {
      "text/plain": [
       "<matplotlib.image.AxesImage at 0x7f0be9573a90>"
      ]
     },
     "execution_count": 82,
     "metadata": {
      "tags": []
     },
     "output_type": "execute_result"
    },
    {
     "data": {
      "image/png": "[encoded data removed]",
      "text/plain": [
       "<matplotlib.figure.Figure at 0x7f0be7563dd8>"
      ]
     },
     "metadata": {
      "tags": []
     },
     "output_type": "display_data"
    }
   ],
   "source": [
    "img = plt.imread(str(PATH/'test_128/9000003627287624.png'))\n",
    "plt.imshow(img)"
   ]
  },
  {
   "cell_type": "code",
   "execution_count": 94,
   "metadata": {
    "colab": {
     "base_uri": "https://localhost:8080/",
     "height": 126
    },
    "colab_type": "code",
    "id": "4QIZjgASOwSq",
    "outputId": "cce6d50d-5bbd-4b56-c40e-f2022d0042b3"
   },
   "outputs": [
    {
     "data": {
      "text/plain": [
       "(102000,\n",
       " array([108961, 115875]),\n",
       " 510000,\n",
       " [PosixPath('data/quick_draw/train_128/zigzag/4559797904998400.png'),\n",
       "  PosixPath('data/quick_draw/train_128/zigzag/4612714536108032.png'),\n",
       "  PosixPath('data/quick_draw/train_128/zigzag/5128690734202880.png')])"
      ]
     },
     "execution_count": 94,
     "metadata": {
      "tags": []
     },
     "output_type": "execute_result"
    }
   ],
   "source": [
    "def get_image_files(path, recurse=True):\n",
    "  return [o for o in Path(path).glob('**/*' if recurse else '*')\n",
    "          if not o.name.startswith('.') and not o.is_dir() and o.suffix == '.png']\n",
    "\n",
    "fnames = get_image_files(PATH/f'train_{sz}')\n",
    "val_idxs = get_cv_idxs(len(fnames))\n",
    "len(val_idxs), val_idxs[:2], len(fnames), fnames[:3]"
   ]
  },
  {
   "cell_type": "code",
   "execution_count": 100,
   "metadata": {
    "colab": {
     "base_uri": "https://localhost:8080/",
     "height": 35
    },
    "colab_type": "code",
    "id": "FMYShVVMeskU",
    "outputId": "e90bba63-6033-405d-846d-f1133fdd3f36"
   },
   "outputs": [
    {
     "data": {
      "text/plain": [
       "'zigzag'"
      ]
     },
     "execution_count": 100,
     "metadata": {
      "tags": []
     },
     "output_type": "execute_result"
    }
   ],
   "source": [
    "fnames[0].parent.stem"
   ]
  },
  {
   "cell_type": "code",
   "execution_count": 0,
   "metadata": {
    "colab": {},
    "colab_type": "code",
    "id": "ojjjwhHhdxQ0"
   },
   "outputs": [],
   "source": [
    "fns = np.array(['/'.join(o.parts[-2:]) for o in fnames])\n",
    "labels = np.array([o.parent.stem for o in fnames])\n",
    "df = pd.DataFrame({'fname': fns, 'word': labels})\n",
    "df.to_csv(PATH/'train.csv', index=False)"
   ]
  },
  {
   "cell_type": "code",
   "execution_count": 102,
   "metadata": {
    "colab": {
     "base_uri": "https://localhost:8080/",
     "height": 198
    },
    "colab_type": "code",
    "id": "jY-Db1ykegBf",
    "outputId": "bd180a8e-27a8-46ab-fa7d-a44626d61e5f"
   },
   "outputs": [
    {
     "data": {
      "text/html": [
       "<div>\n",
       "<style scoped>\n",
       "    .dataframe tbody tr th:only-of-type {\n",
       "        vertical-align: middle;\n",
       "    }\n",
       "\n",
       "    .dataframe tbody tr th {\n",
       "        vertical-align: top;\n",
       "    }\n",
       "\n",
       "    .dataframe thead th {\n",
       "        text-align: right;\n",
       "    }\n",
       "</style>\n",
       "<table border=\"1\" class=\"dataframe\">\n",
       "  <thead>\n",
       "    <tr style=\"text-align: right;\">\n",
       "      <th></th>\n",
       "      <th>fname</th>\n",
       "      <th>word</th>\n",
       "    </tr>\n",
       "  </thead>\n",
       "  <tbody>\n",
       "    <tr>\n",
       "      <th>0</th>\n",
       "      <td>zigzag/4559797904998400.png</td>\n",
       "      <td>zigzag</td>\n",
       "    </tr>\n",
       "    <tr>\n",
       "      <th>1</th>\n",
       "      <td>zigzag/4612714536108032.png</td>\n",
       "      <td>zigzag</td>\n",
       "    </tr>\n",
       "    <tr>\n",
       "      <th>2</th>\n",
       "      <td>zigzag/5128690734202880.png</td>\n",
       "      <td>zigzag</td>\n",
       "    </tr>\n",
       "    <tr>\n",
       "      <th>3</th>\n",
       "      <td>zigzag/6520470406955008.png</td>\n",
       "      <td>zigzag</td>\n",
       "    </tr>\n",
       "    <tr>\n",
       "      <th>4</th>\n",
       "      <td>zigzag/5122774639050752.png</td>\n",
       "      <td>zigzag</td>\n",
       "    </tr>\n",
       "  </tbody>\n",
       "</table>\n",
       "</div>"
      ],
      "text/plain": [
       "                         fname    word\n",
       "0  zigzag/4559797904998400.png  zigzag\n",
       "1  zigzag/4612714536108032.png  zigzag\n",
       "2  zigzag/5128690734202880.png  zigzag\n",
       "3  zigzag/6520470406955008.png  zigzag\n",
       "4  zigzag/5122774639050752.png  zigzag"
      ]
     },
     "execution_count": 102,
     "metadata": {
      "tags": []
     },
     "output_type": "execute_result"
    }
   ],
   "source": [
    "df = pd.read_csv(PATH/'train.csv')\n",
    "df.head()"
   ]
  },
  {
   "cell_type": "code",
   "execution_count": 103,
   "metadata": {
    "colab": {
     "base_uri": "https://localhost:8080/",
     "height": 35
    },
    "colab_type": "code",
    "id": "-HZvjNNrav6a",
    "outputId": "a5c20331-fa58-4752-b57b-5a7413e6c0ee"
   },
   "outputs": [
    {
     "data": {
      "text/plain": [
       "'drive/quick_draw/train.csv'"
      ]
     },
     "execution_count": 103,
     "metadata": {
      "tags": []
     },
     "output_type": "execute_result"
    }
   ],
   "source": [
    "with open(FN_PKL, 'wb') as fp:\n",
    "  pickle.dump(fnames, fp)\n",
    "with open(VAL_PKL, 'wb') as fp:\n",
    "  pickle.dump(val_idxs, fp)\n",
    "shutil.copy(f'{FN_PKL}', DISK_PATH)\n",
    "shutil.copy(f'{VAL_PKL}', DISK_PATH)\n",
    "shutil.copy(PATH/'train.csv', DISK_PATH)"
   ]
  },
  {
   "cell_type": "code",
   "execution_count": 0,
   "metadata": {
    "colab": {},
    "colab_type": "code",
    "id": "s6-1ECYSl_q_"
   },
   "outputs": [],
   "source": [
    "val_idxs = pickle.load(open('val_idxs_128sz_1500.pkl', 'rb'))"
   ]
  },
  {
   "cell_type": "markdown",
   "metadata": {
    "colab_type": "text",
    "id": "0fIsJ8E7f6D5"
   },
   "source": [
    "### Dataset"
   ]
  },
  {
   "cell_type": "code",
   "execution_count": 9,
   "metadata": {
    "colab": {
     "base_uri": "https://localhost:8080/",
     "height": 35
    },
    "colab_type": "code",
    "id": "gsg2hlQzf7vp",
    "outputId": "3a0b2ecb-89e1-4d74-f676-5b33d4812beb"
   },
   "outputs": [
    {
     "data": {
      "text/plain": [
       "(340, ['The_Eiffel_Tower', 'The_Great_Wall_of_China', 'The_Mona_Lisa'])"
      ]
     },
     "execution_count": 9,
     "metadata": {
      "tags": []
     },
     "output_type": "execute_result"
    }
   ],
   "source": [
    "arch = resnet34\n",
    "sz = 128\n",
    "bs = 128\n",
    "\n",
    "tfms = tfms_from_model(arch, sz, aug_tfms=transforms_side_on)\n",
    "md = ImageClassifierData.from_csv(PATH, f'train_{sz}', PATH/'train.csv', bs=bs, tfms=tfms,\n",
    "                                  val_idxs=val_idxs, test_name=f'test_{sz}')\n",
    "md.c, md.classes[:3]"
   ]
  },
  {
   "cell_type": "markdown",
   "metadata": {
    "colab_type": "text",
    "id": "GmuhEP6wKWnF"
   },
   "source": [
    "### MobileNet"
   ]
  },
  {
   "cell_type": "code",
   "execution_count": 0,
   "metadata": {
    "colab": {},
    "colab_type": "code",
    "id": "gnbfF4BRKWDO"
   },
   "outputs": [],
   "source": [
    "def std_conv(nin, nf, ks=3, stride=1):\n",
    "  return nn.Sequential(\n",
    "      nn.Conv2d(nin, nf, ks, stride, padding=ks//2, bias=False),\n",
    "      nn.BatchNorm2d(nf),\n",
    "      nn.ReLU(inplace=True)\n",
    "  )\n",
    "\n",
    "def conv_dw(nin, nf, stride=2):\n",
    "  return nn.Sequential(\n",
    "      nn.Conv2d(nin, nin, 3, stride, 1, groups=nin, bias=False),\n",
    "      nn.BatchNorm2d(nin),\n",
    "      nn.ReLU(inplace=True),\n",
    "      nn.Conv2d(nin, nf, 1, 1, bias=False),\n",
    "      nn.BatchNorm2d(nf),\n",
    "      nn.ReLU(inplace=True)\n",
    "  )\n",
    "\n",
    "class MobileNet(nn.Module):\n",
    "  def __init__(self, num_classes, ps=0.25):\n",
    "    super().__init__()\n",
    "    self.layers = nn.Sequential(\n",
    "        std_conv(3, 32, 2),\n",
    "        conv_dw(32, 64, 1),\n",
    "        conv_dw(64, 128),\n",
    "        conv_dw(128, 128, 1),\n",
    "        conv_dw(128, 256),\n",
    "        conv_dw(256, 256, 1),\n",
    "        conv_dw(256, 512),\n",
    "        conv_dw(512, 256, 1),   # bottleneck\n",
    "        conv_dw(256, 512, 1),\n",
    "#         conv_dw(512, 512, 1),\n",
    "#         conv_dw(512, 512, 1),\n",
    "#         conv_dw(512, 512, 1),\n",
    "#         conv_dw(512, 512, 1),\n",
    "#         conv_dw(512, 512, 1),\n",
    "#         conv_dw(512, 1024, 2),\n",
    "#         conv_dw(1024, 1024, 1),\n",
    "        nn.AdaptiveAvgPool2d(1),\n",
    "        Flatten(),\n",
    "        nn.BatchNorm1d(512),\n",
    "        nn.Dropout(p=ps),\n",
    "        nn.Linear(512, num_classes),      \n",
    "        nn.LogSoftmax()\n",
    "    )\n",
    "\n",
    "  def forward(self, x):\n",
    "    return self.layers(x)"
   ]
  },
  {
   "cell_type": "code",
   "execution_count": 0,
   "metadata": {
    "colab": {},
    "colab_type": "code",
    "id": "JpWK-R1pQAc6"
   },
   "outputs": [],
   "source": [
    "def map_top3(preds, targs):\n",
    "  top3 = torch.sort(preds, dim=1, descending=True)[0][:, :3]\n",
    "  return torch.mean(torch.sum(torch.exp(top3), 1))"
   ]
  },
  {
   "cell_type": "code",
   "execution_count": 0,
   "metadata": {
    "colab": {},
    "colab_type": "code",
    "id": "CXojUSNxx8L9"
   },
   "outputs": [],
   "source": [
    "m = to_gpu(MobileNet(md.c))\n",
    "learn = ConvLearner.from_model_data(m, md)\n",
    "learn.opt_fn = optim.Adam\n",
    "learn.metrics = [accuracy, map_top3]"
   ]
  },
  {
   "cell_type": "code",
   "execution_count": 16,
   "metadata": {
    "colab": {
     "base_uri": "https://localhost:8080/",
     "height": 933
    },
    "colab_type": "code",
    "id": "5vq1O3xWnsHq",
    "outputId": "7bec4553-08bc-4738-be09-c1f582c00eea"
   },
   "outputs": [
    {
     "data": {
      "image/png": "[encoded data removed]",
      "text/plain": [
       "<matplotlib.figure.Figure at 0x7f201ce29898>"
      ]
     },
     "metadata": {
      "tags": []
     },
     "output_type": "display_data"
    }
   ],
   "source": [
    "learn.lr_find2(num_it=100)\n",
    "learn.sched.plot(0, 10)"
   ]
  },
  {
   "cell_type": "code",
   "execution_count": 0,
   "metadata": {
    "colab": {
     "base_uri": "https://localhost:8080/",
     "height": 218
    },
    "colab_type": "code",
    "id": "hYzokIxrxRTc",
    "outputId": "a31a71fd-0ccf-4eda-dca3-0173d8717256"
   },
   "outputs": [
    {
     "data": {
      "application/vnd.jupyter.widget-view+json": {
       "model_id": "df305c65a86f403a99a4b8dfb388b3c7",
       "version_major": 2,
       "version_minor": 0
      },
      "text/plain": [
       "HBox(children=(IntProgress(value=0, description='Epoch', max=10, style=ProgressStyle(description_width='initia…"
      ]
     },
     "metadata": {
      "tags": []
     },
     "output_type": "display_data"
    },
    {
     "name": "stdout",
     "output_type": "stream",
     "text": [
      "epoch      trn_loss   val_loss   accuracy   map_top3   \n",
      "    0      4.221134   3.929499   0.174265   0.373     \n",
      "    1      3.122172   2.83353    0.352059   0.528392  \n",
      "    2      2.647427   2.299856   0.460735   0.640049  \n",
      "    3      2.421247   2.322631   0.454706   0.634115  \n",
      "    4      2.163204   1.90709    0.545147   0.721836  \n",
      "    5      1.975682   1.765632   0.575662   0.747461  \n",
      "    6      1.821589   1.665574   0.603162   0.768702  \n",
      "    7      1.698267   1.60571    0.617794   0.786565  \n",
      "    8      1.58901    1.53894    0.634118   0.807489  \n",
      "    9      1.459088   1.491365   0.644044   0.82133   \n"
     ]
    }
   ],
   "source": [
    "lr = 2e-2\n",
    "learn.fit(lr, 1, cycle_len=10, use_clr=(20, 10))\n",
    "learn.save(f'mobilenet_{sz}sz_{k}')"
   ]
  },
  {
   "cell_type": "markdown",
   "metadata": {
    "colab_type": "text",
    "id": "1lDKL1KadkvU"
   },
   "source": [
    "### Submission"
   ]
  },
  {
   "cell_type": "code",
   "execution_count": 0,
   "metadata": {
    "colab": {
     "base_uri": "https://localhost:8080/",
     "height": 17
    },
    "colab_type": "code",
    "id": "80HUPmVcQ3Ds",
    "outputId": "ae3b130d-f5d2-4112-a171-8b16c757587f"
   },
   "outputs": [
    {
     "name": "stdout",
     "output_type": "stream",
     "text": []
    }
   ],
   "source": [
    "preds = learn.TTA(is_test=True)[0]"
   ]
  },
  {
   "cell_type": "code",
   "execution_count": 0,
   "metadata": {
    "colab": {
     "base_uri": "https://localhost:8080/",
     "height": 34
    },
    "colab_type": "code",
    "id": "wXpnsQvfg54A",
    "outputId": "d0e6f0e0-5862-4c40-9c0c-6f62e7b671ad"
   },
   "outputs": [
    {
     "data": {
      "text/plain": [
       "(5, 112199, 340)"
      ]
     },
     "execution_count": 78,
     "metadata": {
      "tags": []
     },
     "output_type": "execute_result"
    }
   ],
   "source": [
    "preds.shape"
   ]
  },
  {
   "cell_type": "code",
   "execution_count": 0,
   "metadata": {
    "colab": {
     "base_uri": "https://localhost:8080/",
     "height": 34
    },
    "colab_type": "code",
    "id": "_5EXNaAPh3U6",
    "outputId": "5cf93d6f-f154-47de-e0b8-2b645fa02397"
   },
   "outputs": [
    {
     "data": {
      "text/plain": [
       "(112199, 340)"
      ]
     },
     "execution_count": 79,
     "metadata": {
      "tags": []
     },
     "output_type": "execute_result"
    }
   ],
   "source": [
    "pr = np.mean(np.exp(preds), 0)\n",
    "pr.shape"
   ]
  },
  {
   "cell_type": "code",
   "execution_count": 0,
   "metadata": {
    "colab": {},
    "colab_type": "code",
    "id": "ejCyEXulidR7"
   },
   "outputs": [],
   "source": [
    "top_3 = np.argsort(pr)[:, ::-1][:, :3]\n",
    "cat = np.array([' '.join(str(md.classes[i]) for i in o) for o in top_3])\n",
    "image = md.test_ds.fnames"
   ]
  },
  {
   "cell_type": "code",
   "execution_count": 0,
   "metadata": {
    "colab": {
     "base_uri": "https://localhost:8080/",
     "height": 203
    },
    "colab_type": "code",
    "id": "Vck1nG75jO8W",
    "outputId": "7bc7ad6b-0d46-4922-8658-e809413f632d"
   },
   "outputs": [
    {
     "data": {
      "text/html": [
       "<div>\n",
       "<style scoped>\n",
       "    .dataframe tbody tr th:only-of-type {\n",
       "        vertical-align: middle;\n",
       "    }\n",
       "\n",
       "    .dataframe tbody tr th {\n",
       "        vertical-align: top;\n",
       "    }\n",
       "\n",
       "    .dataframe thead th {\n",
       "        text-align: right;\n",
       "    }\n",
       "</style>\n",
       "<table border=\"1\" class=\"dataframe\">\n",
       "  <thead>\n",
       "    <tr style=\"text-align: right;\">\n",
       "      <th></th>\n",
       "      <th>key_id</th>\n",
       "      <th>word</th>\n",
       "    </tr>\n",
       "  </thead>\n",
       "  <tbody>\n",
       "    <tr>\n",
       "      <th>0</th>\n",
       "      <td>test_128/9028014602137518.png</td>\n",
       "      <td>banana elbow matches</td>\n",
       "    </tr>\n",
       "    <tr>\n",
       "      <th>1</th>\n",
       "      <td>test_128/9325698402591604.png</td>\n",
       "      <td>paint_can hot_tub cake</td>\n",
       "    </tr>\n",
       "    <tr>\n",
       "      <th>2</th>\n",
       "      <td>test_128/9791244567109262.png</td>\n",
       "      <td>string_bean feather dolphin</td>\n",
       "    </tr>\n",
       "    <tr>\n",
       "      <th>3</th>\n",
       "      <td>test_128/9396277400422292.png</td>\n",
       "      <td>bulldozer tractor car</td>\n",
       "    </tr>\n",
       "    <tr>\n",
       "      <th>4</th>\n",
       "      <td>test_128/9037773561277176.png</td>\n",
       "      <td>flamingo giraffe saxophone</td>\n",
       "    </tr>\n",
       "  </tbody>\n",
       "</table>\n",
       "</div>"
      ],
      "text/plain": [
       "                          key_id                         word\n",
       "0  test_128/9028014602137518.png         banana elbow matches\n",
       "1  test_128/9325698402591604.png       paint_can hot_tub cake\n",
       "2  test_128/9791244567109262.png  string_bean feather dolphin\n",
       "3  test_128/9396277400422292.png        bulldozer tractor car\n",
       "4  test_128/9037773561277176.png   flamingo giraffe saxophone"
      ]
     },
     "execution_count": 81,
     "metadata": {
      "tags": []
     },
     "output_type": "execute_result"
    }
   ],
   "source": [
    "submission = pd.DataFrame({'key_id': image, 'word': cat})\n",
    "submission.head()"
   ]
  },
  {
   "cell_type": "code",
   "execution_count": 0,
   "metadata": {
    "colab": {
     "base_uri": "https://localhost:8080/",
     "height": 203
    },
    "colab_type": "code",
    "id": "DBuk-R0pkxVE",
    "outputId": "3ca19c2e-cf67-49da-9624-f159df3f60f0"
   },
   "outputs": [
    {
     "data": {
      "text/html": [
       "<div>\n",
       "<style scoped>\n",
       "    .dataframe tbody tr th:only-of-type {\n",
       "        vertical-align: middle;\n",
       "    }\n",
       "\n",
       "    .dataframe tbody tr th {\n",
       "        vertical-align: top;\n",
       "    }\n",
       "\n",
       "    .dataframe thead th {\n",
       "        text-align: right;\n",
       "    }\n",
       "</style>\n",
       "<table border=\"1\" class=\"dataframe\">\n",
       "  <thead>\n",
       "    <tr style=\"text-align: right;\">\n",
       "      <th></th>\n",
       "      <th>key_id</th>\n",
       "      <th>word</th>\n",
       "    </tr>\n",
       "  </thead>\n",
       "  <tbody>\n",
       "    <tr>\n",
       "      <th>0</th>\n",
       "      <td>9028014602137518</td>\n",
       "      <td>banana elbow matches</td>\n",
       "    </tr>\n",
       "    <tr>\n",
       "      <th>1</th>\n",
       "      <td>9325698402591604</td>\n",
       "      <td>paint_can hot_tub cake</td>\n",
       "    </tr>\n",
       "    <tr>\n",
       "      <th>2</th>\n",
       "      <td>9791244567109262</td>\n",
       "      <td>string_bean feather dolphin</td>\n",
       "    </tr>\n",
       "    <tr>\n",
       "      <th>3</th>\n",
       "      <td>9396277400422292</td>\n",
       "      <td>bulldozer tractor car</td>\n",
       "    </tr>\n",
       "    <tr>\n",
       "      <th>4</th>\n",
       "      <td>9037773561277176</td>\n",
       "      <td>flamingo giraffe saxophone</td>\n",
       "    </tr>\n",
       "  </tbody>\n",
       "</table>\n",
       "</div>"
      ],
      "text/plain": [
       "             key_id                         word\n",
       "0  9028014602137518         banana elbow matches\n",
       "1  9325698402591604       paint_can hot_tub cake\n",
       "2  9791244567109262  string_bean feather dolphin\n",
       "3  9396277400422292        bulldozer tractor car\n",
       "4  9037773561277176   flamingo giraffe saxophone"
      ]
     },
     "execution_count": 83,
     "metadata": {
      "tags": []
     },
     "output_type": "execute_result"
    }
   ],
   "source": [
    "submission.key_id = submission.key_id.str.replace('^test_128/', '')\n",
    "submission.key_id = submission.key_id.str.replace('.png$', '')\n",
    "submission.head()"
   ]
  },
  {
   "cell_type": "code",
   "execution_count": 0,
   "metadata": {
    "colab": {},
    "colab_type": "code",
    "id": "8KDhjhQRmsZX"
   },
   "outputs": [],
   "source": [
    "submission.to_csv('submission.csv.gz', index=False, compression='gzip')"
   ]
  },
  {
   "cell_type": "code",
   "execution_count": 0,
   "metadata": {
    "colab": {},
    "colab_type": "code",
    "id": "0ISOsP1okK8G"
   },
   "outputs": [],
   "source": []
  }
 ],
 "metadata": {
  "accelerator": "GPU",
  "colab": {
   "collapsed_sections": [
    "Z5sNJtPHRxD2",
    "0fIsJ8E7f6D5",
    "GmuhEP6wKWnF",
    "1lDKL1KadkvU"
   ],
   "name": "QuickDraw_public.ipynb",
   "provenance": [],
   "version": "0.3.2"
  },
  "kernelspec": {
   "display_name": "Python 3",
   "language": "python",
   "name": "python3"
  },
  "language_info": {
   "codemirror_mode": {
    "name": "ipython",
    "version": 3
   },
   "file_extension": ".py",
   "mimetype": "text/x-python",
   "name": "python",
   "nbconvert_exporter": "python",
   "pygments_lexer": "ipython3",
   "version": "3.6.4"
  }
 },
 "nbformat": 4,
 "nbformat_minor": 1
}
