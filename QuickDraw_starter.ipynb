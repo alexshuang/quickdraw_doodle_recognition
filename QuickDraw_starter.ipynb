{
  "nbformat": 4,
  "nbformat_minor": 0,
  "metadata": {
    "colab": {
      "name": "QuickDraw_starter.ipynb",
      "version": "0.3.2",
      "provenance": [],
      "collapsed_sections": [
        "Z5sNJtPHRxD2",
        "r8kBfuO9Br_e",
        "1lDKL1KadkvU"
      ]
    },
    "kernelspec": {
      "name": "python3",
      "display_name": "Python 3"
    },
    "accelerator": "GPU"
  },
  "cells": [
    {
      "metadata": {
        "id": "CxpafRfNXddC",
        "colab_type": "code",
        "outputId": "827963b8-7221-4722-ffcc-c299f89bec9e",
        "colab": {
          "base_uri": "https://localhost:8080/",
          "height": 237
        }
      },
      "cell_type": "code",
      "source": [
        "# fastai 0.7.0\n",
        "!mkdir src -p && cd src && git clone https://github.com/fastai/fastai.git\n",
        "!pip3 install -q bcolz graphviz sklearn_pandas isoweek pandas_summary ipywidgets torch torchvision torchtext\n",
        "import sys\n",
        "sys.path.append(\"/content/src/fastai/old\") # on windows use \\'s instead\n",
        "from fastai.conv_learner import *\n",
        "from fastai.dataset import *\n",
        "import gc\n",
        "print(torch.__version__)\n",
        "torch.backends.cudnn.benchmark=True\n",
        "torch.cuda.is_available(), torch.backends.cudnn.enabled"
      ],
      "execution_count": 0,
      "outputs": [
        {
          "output_type": "stream",
          "text": [
            "Cloning into 'fastai'...\n",
            "remote: Enumerating objects: 32, done.\u001b[K\n",
            "remote: Counting objects:   3% (1/32)   \u001b[K\rremote: Counting objects:   6% (2/32)   \u001b[K\rremote: Counting objects:   9% (3/32)   \u001b[K\rremote: Counting objects:  12% (4/32)   \u001b[K\rremote: Counting objects:  15% (5/32)   \u001b[K\rremote: Counting objects:  18% (6/32)   \u001b[K\rremote: Counting objects:  21% (7/32)   \u001b[K\rremote: Counting objects:  25% (8/32)   \u001b[K\rremote: Counting objects:  28% (9/32)   \u001b[K\rremote: Counting objects:  31% (10/32)   \u001b[K\rremote: Counting objects:  34% (11/32)   \u001b[K\rremote: Counting objects:  37% (12/32)   \u001b[K\rremote: Counting objects:  40% (13/32)   \u001b[K\rremote: Counting objects:  43% (14/32)   \u001b[K\rremote: Counting objects:  46% (15/32)   \u001b[K\rremote: Counting objects:  50% (16/32)   \u001b[K\rremote: Counting objects:  53% (17/32)   \u001b[K\rremote: Counting objects:  56% (18/32)   \u001b[K\rremote: Counting objects:  59% (19/32)   \u001b[K\rremote: Counting objects:  62% (20/32)   \u001b[K\rremote: Counting objects:  65% (21/32)   \u001b[K\rremote: Counting objects:  68% (22/32)   \u001b[K\rremote: Counting objects:  71% (23/32)   \u001b[K\rremote: Counting objects:  75% (24/32)   \u001b[K\rremote: Counting objects:  78% (25/32)   \u001b[K\rremote: Counting objects:  81% (26/32)   \u001b[K\rremote: Counting objects:  84% (27/32)   \u001b[K\rremote: Counting objects:  87% (28/32)   \u001b[K\rremote: Counting objects:  90% (29/32)   \u001b[K\rremote: Counting objects:  93% (30/32)   \u001b[K\rremote: Counting objects:  96% (31/32)   \u001b[K\rremote: Counting objects: 100% (32/32)   \u001b[K\rremote: Counting objects: 100% (32/32), done.\u001b[K\n",
            "remote: Compressing objects: 100% (24/24), done.\u001b[K\n",
            "remote: Total 16102 (delta 17), reused 18 (delta 8), pack-reused 16070\u001b[K\n",
            "Receiving objects: 100% (16102/16102), 298.57 MiB | 27.68 MiB/s, done.\n",
            "Resolving deltas: 100% (10829/10829), done.\n",
            "Checking out files: 100% (695/695), done.\n",
            "tcmalloc: large alloc 1073750016 bytes == 0x58b94000 @  0x7f7e89a022a4 0x591a07 0x5b5d56 0x502e9a 0x506859 0x502209 0x502f3d 0x506859 0x504c28 0x502540 0x502f3d 0x506859 0x504c28 0x502540 0x502f3d 0x506859 0x504c28 0x502540 0x502f3d 0x507641 0x502209 0x502f3d 0x506859 0x504c28 0x502540 0x502f3d 0x507641 0x504c28 0x502540 0x502f3d 0x507641\n",
            "0.4.1\n"
          ],
          "name": "stdout"
        },
        {
          "output_type": "execute_result",
          "data": {
            "text/plain": [
              "(True, True)"
            ]
          },
          "metadata": {
            "tags": []
          },
          "execution_count": 5
        }
      ]
    },
    {
      "metadata": {
        "id": "RUNwlLO6XdgL",
        "colab_type": "code",
        "colab": {}
      },
      "cell_type": "code",
      "source": [
        "!git config --global user.email 'nikshuang@163.com'\n",
        "!git config --global user.name 'Alex Huang'\n",
        "!pip install -q kaggle"
      ],
      "execution_count": 0,
      "outputs": []
    },
    {
      "metadata": {
        "id": "aBr0TxKdYLjl",
        "colab_type": "code",
        "colab": {}
      },
      "cell_type": "code",
      "source": [
        "PATH = Path('data/quick_draw')\n",
        "TRN_TXT_PATH = PATH/'txt'\n",
        "TRN_PATH = PATH/'train'\n",
        "TEST_PATH = PATH/'test'\n",
        "DISK_PATH = 'drive/quick_draw'\n",
        "os.makedirs(DISK_PATH, exist_ok=True)\n",
        "os.makedirs(PATH, exist_ok=True)\n",
        "os.makedirs(TRN_PATH, exist_ok=True)\n",
        "os.makedirs(TEST_PATH, exist_ok=True)\n",
        "os.makedirs(TRN_TXT_PATH, exist_ok=True)"
      ],
      "execution_count": 0,
      "outputs": []
    },
    {
      "metadata": {
        "id": "scB_smh8Y4FZ",
        "colab_type": "code",
        "outputId": "fa4282a4-ccaf-4d19-bf5e-b0025e6d23c8",
        "colab": {
          "base_uri": "https://localhost:8080/",
          "height": 72
        }
      },
      "cell_type": "code",
      "source": [
        "kaggle competitions download -c human-protein-atlas-image-classification -p {PATH}\n",
        "!cd {PATH}/'tx && unzip -q ../train_simplified.zip"
      ],
      "execution_count": 0,
      "outputs": [
        {
          "output_type": "stream",
          "text": [
            "test_simplified.csv: Skipping, found more recently modified local copy (use --force to force download)\n",
            "train_simplified.zip: Skipping, found more recently modified local copy (use --force to force download)\n",
            "replace fence.csv? [y]es, [n]o, [A]ll, [N]one, [r]ename: "
          ],
          "name": "stdout"
        }
      ]
    },
    {
      "metadata": {
        "id": "Z5sNJtPHRxD2",
        "colab_type": "text"
      },
      "cell_type": "markdown",
      "source": [
        "### Prepare data: load from *.png"
      ]
    },
    {
      "metadata": {
        "id": "7k5DEGoRTGsa",
        "colab_type": "code",
        "colab": {}
      },
      "cell_type": "code",
      "source": [
        "%%time\n",
        "def get_count(path): return (path.stem, pd.read_csv(path).shape[0])\n",
        "with ThreadPoolExecutor(2) as e: counts = list(e.map(get_count, TRN_PATH.iterdir()))"
      ],
      "execution_count": 0,
      "outputs": []
    },
    {
      "metadata": {
        "id": "UWufBbJUR4Vl",
        "colab_type": "code",
        "colab": {}
      },
      "cell_type": "code",
      "source": [
        "counts = sorted(counts, key=lambda x: x[1])"
      ],
      "execution_count": 0,
      "outputs": []
    },
    {
      "metadata": {
        "id": "PSYCT6ebYWIK",
        "colab_type": "text"
      },
      "cell_type": "markdown",
      "source": [
        "最小的数据集和最大的数据集相差有20多万个样本，数据分布极度不均"
      ]
    },
    {
      "metadata": {
        "id": "ta7_6oslX999",
        "colab_type": "code",
        "colab": {}
      },
      "cell_type": "code",
      "source": [
        "counts[:10], counts[-10:]"
      ],
      "execution_count": 0,
      "outputs": []
    },
    {
      "metadata": {
        "id": "xhSRgTZLZ7sl",
        "colab_type": "code",
        "outputId": "cd388343-892a-49cc-fc55-a02dca4f57af",
        "colab": {
          "base_uri": "https://localhost:8080/",
          "height": 288
        }
      },
      "cell_type": "code",
      "source": [
        "df = pd.read_csv(TRN_PATH/'blueberry.csv')\n",
        "df.head()"
      ],
      "execution_count": 0,
      "outputs": [
        {
          "output_type": "execute_result",
          "data": {
            "text/html": [
              "<div>\n",
              "<style scoped>\n",
              "    .dataframe tbody tr th:only-of-type {\n",
              "        vertical-align: middle;\n",
              "    }\n",
              "\n",
              "    .dataframe tbody tr th {\n",
              "        vertical-align: top;\n",
              "    }\n",
              "\n",
              "    .dataframe thead th {\n",
              "        text-align: right;\n",
              "    }\n",
              "</style>\n",
              "<table border=\"1\" class=\"dataframe\">\n",
              "  <thead>\n",
              "    <tr style=\"text-align: right;\">\n",
              "      <th></th>\n",
              "      <th>countrycode</th>\n",
              "      <th>drawing</th>\n",
              "      <th>key_id</th>\n",
              "      <th>recognized</th>\n",
              "      <th>timestamp</th>\n",
              "      <th>word</th>\n",
              "    </tr>\n",
              "  </thead>\n",
              "  <tbody>\n",
              "    <tr>\n",
              "      <th>0</th>\n",
              "      <td>TH</td>\n",
              "      <td>[[[47, 39, 22, 12, 0, 0, 2, 7, 17, 42, 50, 62,...</td>\n",
              "      <td>6382699784699904</td>\n",
              "      <td>True</td>\n",
              "      <td>2017-03-16 09:41:33.474350</td>\n",
              "      <td>blueberry</td>\n",
              "    </tr>\n",
              "    <tr>\n",
              "      <th>1</th>\n",
              "      <td>IT</td>\n",
              "      <td>[[[222, 207, 196, 190, 191, 194, 208, 242, 252...</td>\n",
              "      <td>6046664550776832</td>\n",
              "      <td>True</td>\n",
              "      <td>2017-01-23 15:11:32.747510</td>\n",
              "      <td>blueberry</td>\n",
              "    </tr>\n",
              "    <tr>\n",
              "      <th>2</th>\n",
              "      <td>US</td>\n",
              "      <td>[[[189, 186, 170, 126, 82, 60, 31, 8, 1, 0, 11...</td>\n",
              "      <td>5715196523839488</td>\n",
              "      <td>True</td>\n",
              "      <td>2017-01-25 17:51:09.581080</td>\n",
              "      <td>blueberry</td>\n",
              "    </tr>\n",
              "    <tr>\n",
              "      <th>3</th>\n",
              "      <td>US</td>\n",
              "      <td>[[[109, 84, 57, 44, 19, 10, 1, 0, 4, 14, 32, 4...</td>\n",
              "      <td>5147758375731200</td>\n",
              "      <td>True</td>\n",
              "      <td>2017-03-19 13:06:15.610220</td>\n",
              "      <td>blueberry</td>\n",
              "    </tr>\n",
              "    <tr>\n",
              "      <th>4</th>\n",
              "      <td>US</td>\n",
              "      <td>[[[77, 57, 26, 14, 2, 0, 2, 14, 33, 62, 86, 12...</td>\n",
              "      <td>6728861146415104</td>\n",
              "      <td>True</td>\n",
              "      <td>2017-03-06 16:01:44.166140</td>\n",
              "      <td>blueberry</td>\n",
              "    </tr>\n",
              "  </tbody>\n",
              "</table>\n",
              "</div>"
            ],
            "text/plain": [
              "  countrycode                                            drawing  \\\n",
              "0          TH  [[[47, 39, 22, 12, 0, 0, 2, 7, 17, 42, 50, 62,...   \n",
              "1          IT  [[[222, 207, 196, 190, 191, 194, 208, 242, 252...   \n",
              "2          US  [[[189, 186, 170, 126, 82, 60, 31, 8, 1, 0, 11...   \n",
              "3          US  [[[109, 84, 57, 44, 19, 10, 1, 0, 4, 14, 32, 4...   \n",
              "4          US  [[[77, 57, 26, 14, 2, 0, 2, 14, 33, 62, 86, 12...   \n",
              "\n",
              "             key_id  recognized                   timestamp       word  \n",
              "0  6382699784699904        True  2017-03-16 09:41:33.474350  blueberry  \n",
              "1  6046664550776832        True  2017-01-23 15:11:32.747510  blueberry  \n",
              "2  5715196523839488        True  2017-01-25 17:51:09.581080  blueberry  \n",
              "3  5147758375731200        True  2017-03-19 13:06:15.610220  blueberry  \n",
              "4  6728861146415104        True  2017-03-06 16:01:44.166140  blueberry  "
            ]
          },
          "metadata": {
            "tags": []
          },
          "execution_count": 34
        }
      ]
    },
    {
      "metadata": {
        "id": "S-wxpUQXZDmi",
        "colab_type": "code",
        "colab": {}
      },
      "cell_type": "code",
      "source": [
        "# https://www.kaggle.com/gaborfodor/greyscale-mobilenet-lb-0-892\n",
        "BASE_SIZE = 256\n",
        "\n",
        "def draw_cv2(raw_strokes, size=256, lw=4, time_color=False):\n",
        "    img = np.zeros((BASE_SIZE, BASE_SIZE), np.uint8)\n",
        "    for t, stroke in enumerate(raw_strokes):\n",
        "        for i in range(len(stroke[0]) - 1):\n",
        "            color = 255 - min(t, 10) * 13 if time_color else 255\n",
        "            _ = cv2.line(img, (stroke[0][i], stroke[1][i]),\n",
        "                         (stroke[0][i + 1], stroke[1][i + 1]), color, lw)\n",
        "    img = cv2.copyMakeBorder(img, 4, 4, 4, 4, cv2.BORDER_CONSTANT)\n",
        "    if size != BASE_SIZE:\n",
        "        return cv2.resize(img, (size, size), interpolation=cv2.INTER_LINEAR)\n",
        "    return img"
      ],
      "execution_count": 0,
      "outputs": []
    },
    {
      "metadata": {
        "id": "sKppm7Ng1n7I",
        "colab_type": "code",
        "outputId": "7769b0dd-8e7b-402d-b931-5aa374a0c6b6",
        "colab": {
          "base_uri": "https://localhost:8080/",
          "height": 367
        }
      },
      "cell_type": "code",
      "source": [
        "plt.imshow(draw_cv2(eval(df.loc[4, 'drawing']), size=256))"
      ],
      "execution_count": 0,
      "outputs": [
        {
          "output_type": "execute_result",
          "data": {
            "text/plain": [
              "<matplotlib.image.AxesImage at 0x7f57752ea898>"
            ]
          },
          "metadata": {
            "tags": []
          },
          "execution_count": 36
        },
        {
          "output_type": "display_data",
          "data": {
            "image/png": "[encoded data removed]",
            "text/plain": [
              "<matplotlib.figure.Figure at 0x7f5790d18278>"
            ]
          },
          "metadata": {
            "tags": []
          }
        }
      ]
    },
    {
      "metadata": {
        "id": "67patVMXZvvt",
        "colab_type": "code",
        "outputId": "2e9c5793-b3e4-47ba-9f28-e29d904e3bd3",
        "colab": {
          "base_uri": "https://localhost:8080/",
          "height": 367
        }
      },
      "cell_type": "code",
      "source": [
        "plt.imshow(draw_cv2(eval(df.loc[4, 'drawing']), size=128))"
      ],
      "execution_count": 0,
      "outputs": [
        {
          "output_type": "execute_result",
          "data": {
            "text/plain": [
              "<matplotlib.image.AxesImage at 0x7f577524f668>"
            ]
          },
          "metadata": {
            "tags": []
          },
          "execution_count": 37
        },
        {
          "output_type": "display_data",
          "data": {
            "image/png": "[encoded data removed]",
            "text/plain": [
              "<matplotlib.figure.Figure at 0x7f577528bcf8>"
            ]
          },
          "metadata": {
            "tags": []
          }
        }
      ]
    },
    {
      "metadata": {
        "id": "AYe1kYWncvh-",
        "colab_type": "code",
        "outputId": "b8100e5c-8858-4927-9925-d3ffa94d1c36",
        "colab": {
          "base_uri": "https://localhost:8080/",
          "height": 367
        }
      },
      "cell_type": "code",
      "source": [
        "plt.imshow(draw_cv2(eval(df.loc[4, 'drawing']), size=64))"
      ],
      "execution_count": 0,
      "outputs": [
        {
          "output_type": "execute_result",
          "data": {
            "text/plain": [
              "<matplotlib.image.AxesImage at 0x7f5775235518>"
            ]
          },
          "metadata": {
            "tags": []
          },
          "execution_count": 38
        },
        {
          "output_type": "display_data",
          "data": {
            "image/png": "[encoded data removed]",
            "text/plain": [
              "<matplotlib.figure.Figure at 0x7f57752ac240>"
            ]
          },
          "metadata": {
            "tags": []
          }
        }
      ]
    },
    {
      "metadata": {
        "id": "yvMzfM_tdBlg",
        "colab_type": "code",
        "outputId": "04e60d92-e282-40c7-c418-ee9b1e91670f",
        "colab": {
          "base_uri": "https://localhost:8080/",
          "height": 365
        }
      },
      "cell_type": "code",
      "source": [
        "plt.imshow(draw_cv2(eval(df.loc[4, 'drawing']), size=32))"
      ],
      "execution_count": 0,
      "outputs": [
        {
          "output_type": "execute_result",
          "data": {
            "text/plain": [
              "<matplotlib.image.AxesImage at 0x7f5775199400>"
            ]
          },
          "metadata": {
            "tags": []
          },
          "execution_count": 39
        },
        {
          "output_type": "display_data",
          "data": {
            "image/png": "[encoded data removed]",
            "text/plain": [
              "<matplotlib.figure.Figure at 0x7f577520b470>"
            ]
          },
          "metadata": {
            "tags": []
          }
        }
      ]
    },
    {
      "metadata": {
        "id": "y5_OTxYL0k55",
        "colab_type": "code",
        "colab": {}
      },
      "cell_type": "code",
      "source": [
        "k = 250\n",
        "sz = 128\n",
        "mn = f'mobilenet_{sz}sz_{k}'\n",
        "dn = f'quickdraw_data_{sz}sz_{k}.tar.bz2'\n",
        "FN_PKL = f'fnames_{sz}sz_{k}.pkl'\n",
        "VAL_PKL = f'val_idxs_{sz}sz_{k}.pkl'"
      ],
      "execution_count": 0,
      "outputs": []
    },
    {
      "metadata": {
        "id": "AlUJSG_-g1N3",
        "colab_type": "code",
        "colab": {}
      },
      "cell_type": "code",
      "source": [
        "def df_to_ims(path):\n",
        "  df = pd.read_csv(path)\n",
        "  selected = df[df.recognized == True].sample(k)\n",
        "  for row in selected.iterrows():\n",
        "    kid, drawing, label = row[1].key_id, eval(row[1].drawing), '_'.join(row[1].word.split())\n",
        "    ary = draw_cv2(drawing, size=sz)\n",
        "    rgb_ary = np.repeat(ary[:, :, None], 3, -1)\n",
        "    plt.imsave(f'{PATH}/train_{sz}/{label}-{kid}.png', rgb_ary)\n",
        "#     PIL.Image.fromarray(rgb_ary).save(f'{PATH}/train_{sz}/{label}-{kid}.png')"
      ],
      "execution_count": 0,
      "outputs": []
    },
    {
      "metadata": {
        "id": "_ZDAjTIXmQTS",
        "colab_type": "code",
        "outputId": "b4460163-9f7d-4760-dcb4-e15319703ddd",
        "colab": {
          "base_uri": "https://localhost:8080/",
          "height": 52
        }
      },
      "cell_type": "code",
      "source": [
        "%%time\n",
        "shutil.rmtree(PATH/f'train_{sz}', ignore_errors=True)\n",
        "os.makedirs(PATH/f'train_{sz}', exist_ok=True)\n",
        "with ThreadPoolExecutor(2) as e: e.map(df_to_ims, TRN_PATH.iterdir())"
      ],
      "execution_count": 0,
      "outputs": [
        {
          "output_type": "stream",
          "text": [
            "CPU times: user 11min 24s, sys: 44.1 s, total: 12min 8s\n",
            "Wall time: 9min 39s\n"
          ],
          "name": "stdout"
        }
      ]
    },
    {
      "metadata": {
        "id": "3Q5nu91kgeHx",
        "colab_type": "code",
        "outputId": "6d4f2925-fa9e-4e07-fd89-97d86a60ee10",
        "colab": {
          "base_uri": "https://localhost:8080/",
          "height": 122
        }
      },
      "cell_type": "code",
      "source": [
        "!ls {PATH}/train_{sz} -l | wc -l\n",
        "!ls {PATH}/train_{sz} -lhS | head -5"
      ],
      "execution_count": 0,
      "outputs": [
        {
          "output_type": "stream",
          "text": [
            "85001\n",
            "total 353M\n",
            "-rw-r--r-- 1 root root 8.4K Nov 10 01:32 camouflage-5968440256888832.png\n",
            "-rw-r--r-- 1 root root 7.9K Nov 10 01:29 squiggle-5598703249260544.png\n",
            "-rw-r--r-- 1 root root 7.7K Nov 10 01:30 blackberry-4885994497114112.png\n",
            "-rw-r--r-- 1 root root 7.6K Nov 10 01:30 blackberry-5734184150630400.png\n"
          ],
          "name": "stdout"
        }
      ]
    },
    {
      "metadata": {
        "id": "NtPU7zaHX-Jr",
        "colab_type": "code",
        "colab": {}
      },
      "cell_type": "code",
      "source": [
        "# PIL.Image.open(PATH/f'train_{sz}/blackberry-4927079281852416.png')"
      ],
      "execution_count": 0,
      "outputs": []
    },
    {
      "metadata": {
        "id": "uVjxFvAWX-HR",
        "colab_type": "code",
        "outputId": "15d25204-e25f-4202-ac1e-36a1473b595f",
        "colab": {
          "base_uri": "https://localhost:8080/",
          "height": 203
        }
      },
      "cell_type": "code",
      "source": [
        "df = pd.read_csv(PATH/'test_simplified.csv')\n",
        "df.head()"
      ],
      "execution_count": 0,
      "outputs": [
        {
          "output_type": "execute_result",
          "data": {
            "text/html": [
              "<div>\n",
              "<style scoped>\n",
              "    .dataframe tbody tr th:only-of-type {\n",
              "        vertical-align: middle;\n",
              "    }\n",
              "\n",
              "    .dataframe tbody tr th {\n",
              "        vertical-align: top;\n",
              "    }\n",
              "\n",
              "    .dataframe thead th {\n",
              "        text-align: right;\n",
              "    }\n",
              "</style>\n",
              "<table border=\"1\" class=\"dataframe\">\n",
              "  <thead>\n",
              "    <tr style=\"text-align: right;\">\n",
              "      <th></th>\n",
              "      <th>key_id</th>\n",
              "      <th>countrycode</th>\n",
              "      <th>drawing</th>\n",
              "    </tr>\n",
              "  </thead>\n",
              "  <tbody>\n",
              "    <tr>\n",
              "      <th>0</th>\n",
              "      <td>9000003627287624</td>\n",
              "      <td>DE</td>\n",
              "      <td>[[[17, 18, 20, 25, 137, 174, 242, 249, 251, 25...</td>\n",
              "    </tr>\n",
              "    <tr>\n",
              "      <th>1</th>\n",
              "      <td>9000010688666847</td>\n",
              "      <td>UA</td>\n",
              "      <td>[[[174, 145, 106, 38, 11, 4, 4, 15, 29, 78, 16...</td>\n",
              "    </tr>\n",
              "    <tr>\n",
              "      <th>2</th>\n",
              "      <td>9000023642890129</td>\n",
              "      <td>BG</td>\n",
              "      <td>[[[0, 12, 14, 17, 16, 24, 55, 57, 60, 79, 82, ...</td>\n",
              "    </tr>\n",
              "    <tr>\n",
              "      <th>3</th>\n",
              "      <td>9000038588854897</td>\n",
              "      <td>US</td>\n",
              "      <td>[[[0, 9, 23, 40, 54, 60, 81, 105, 123, 167, 20...</td>\n",
              "    </tr>\n",
              "    <tr>\n",
              "      <th>4</th>\n",
              "      <td>9000052667981386</td>\n",
              "      <td>AR</td>\n",
              "      <td>[[[87, 82, 71, 63, 66, 92, 96, 95], [220, 218,...</td>\n",
              "    </tr>\n",
              "  </tbody>\n",
              "</table>\n",
              "</div>"
            ],
            "text/plain": [
              "             key_id countrycode  \\\n",
              "0  9000003627287624          DE   \n",
              "1  9000010688666847          UA   \n",
              "2  9000023642890129          BG   \n",
              "3  9000038588854897          US   \n",
              "4  9000052667981386          AR   \n",
              "\n",
              "                                             drawing  \n",
              "0  [[[17, 18, 20, 25, 137, 174, 242, 249, 251, 25...  \n",
              "1  [[[174, 145, 106, 38, 11, 4, 4, 15, 29, 78, 16...  \n",
              "2  [[[0, 12, 14, 17, 16, 24, 55, 57, 60, 79, 82, ...  \n",
              "3  [[[0, 9, 23, 40, 54, 60, 81, 105, 123, 167, 20...  \n",
              "4  [[[87, 82, 71, 63, 66, 92, 96, 95], [220, 218,...  "
            ]
          },
          "metadata": {
            "tags": []
          },
          "execution_count": 47
        }
      ]
    },
    {
      "metadata": {
        "id": "NGlcXF7G_yBU",
        "colab_type": "code",
        "colab": {}
      },
      "cell_type": "code",
      "source": [
        "def test_df_to_ims(path):\n",
        "  df = pd.read_csv(path)\n",
        "  for row in df.iterrows():\n",
        "    kid, drawing = row[1].key_id, eval(row[1].drawing)\n",
        "    ary = draw_cv2(drawing, size=sz)\n",
        "    rgb_ary = np.repeat(ary[:, :, None], 3, -1)\n",
        "    plt.imsave(f'{PATH}/test_{sz}/{kid}.png', rgb_ary)\n",
        "#     PIL.Image.fromarray(rgb_ary).save(f'{PATH}/test_{sz}/{kid}.png')"
      ],
      "execution_count": 0,
      "outputs": []
    },
    {
      "metadata": {
        "id": "ByNbalk5AiiK",
        "colab_type": "code",
        "outputId": "0138a316-0619-48a4-eb54-c6f63e27efab",
        "colab": {
          "base_uri": "https://localhost:8080/",
          "height": 52
        }
      },
      "cell_type": "code",
      "source": [
        "%%time\n",
        "shutil.rmtree(PATH/f'test_{sz}', ignore_errors=True)\n",
        "os.makedirs(PATH/f'test_{sz}', exist_ok=True)\n",
        "test_df_to_ims(PATH/'test_simplified.csv')"
      ],
      "execution_count": 0,
      "outputs": [
        {
          "output_type": "stream",
          "text": [
            "CPU times: user 5min 33s, sys: 8.72 s, total: 5min 42s\n",
            "Wall time: 5min 42s\n"
          ],
          "name": "stdout"
        }
      ]
    },
    {
      "metadata": {
        "id": "6fU--WMlAidl",
        "colab_type": "code",
        "outputId": "104c0625-4b6e-4040-8239-8d4e8dbb91ff",
        "colab": {
          "base_uri": "https://localhost:8080/",
          "height": 122
        }
      },
      "cell_type": "code",
      "source": [
        "!ls {PATH}/test_{sz} -l | wc -l\n",
        "!ls -lhS {PATH}/test_{sz} | head -5"
      ],
      "execution_count": 0,
      "outputs": [
        {
          "output_type": "stream",
          "text": [
            "112200\n",
            "total 501M\n",
            "-rw-r--r-- 1 root root 7.7K Nov 10 01:41 9831494525348231.png\n",
            "-rw-r--r-- 1 root root 7.6K Nov 10 01:39 9525461686320036.png\n",
            "-rw-r--r-- 1 root root 7.5K Nov 10 01:40 9679715569692673.png\n",
            "-rw-r--r-- 1 root root 7.5K Nov 10 01:39 9534292565812127.png\n"
          ],
          "name": "stdout"
        }
      ]
    },
    {
      "metadata": {
        "id": "_PvcmGwhAiZR",
        "colab_type": "code",
        "colab": {}
      },
      "cell_type": "code",
      "source": [
        "# PIL.Image.open(f'{PATH}/test_{sz}/9985742567546855.png')"
      ],
      "execution_count": 0,
      "outputs": []
    },
    {
      "metadata": {
        "id": "OyOn5-raCvHA",
        "colab_type": "code",
        "colab": {}
      },
      "cell_type": "code",
      "source": [
        "%%time\n",
        "!cd {PATH} && tar jcf {dn} train_{sz} test_{sz}\n",
        "shutil.copy(f'{PATH}/{dn}', DISK_PATH)"
      ],
      "execution_count": 0,
      "outputs": []
    },
    {
      "metadata": {
        "id": "6R9nJHUl92vW",
        "colab_type": "code",
        "colab": {}
      },
      "cell_type": "code",
      "source": [
        "image_exts = ['.jpg', '.jpeg', '.png']\n",
        "def get_image_files(path, check_ext=True, recurse=False):\n",
        "  return [o for o in Path(path).glob('**/*' if recurse else '*')\n",
        "          if not o.name.startswith('.') and not o.is_dir()\n",
        "          and (not check_ext or o.suffix in image_exts)]"
      ],
      "execution_count": 0,
      "outputs": []
    },
    {
      "metadata": {
        "id": "4QIZjgASOwSq",
        "colab_type": "code",
        "outputId": "e3458e8f-bfcd-4b70-bb3c-d05ed1e4e97a",
        "colab": {
          "base_uri": "https://localhost:8080/",
          "height": 122
        }
      },
      "cell_type": "code",
      "source": [
        "fnames = get_image_files(PATH/f'train_{sz}')\n",
        "val_idxs = get_cv_idxs(len(fnames))\n",
        "len(val_idxs), val_idxs[:2], len(fnames), fnames[:3]"
      ],
      "execution_count": 0,
      "outputs": [
        {
          "output_type": "execute_result",
          "data": {
            "text/plain": [
              "(17000,\n",
              " array([20569,  6186]),\n",
              " 85000,\n",
              " [PosixPath('data/quick_draw/train_128/animal_migration-6466977700773888.png'),\n",
              "  PosixPath('data/quick_draw/train_128/bandage-6028172833325056.png'),\n",
              "  PosixPath('data/quick_draw/train_128/fan-5967909526437888.png')])"
            ]
          },
          "metadata": {
            "tags": []
          },
          "execution_count": 52
        }
      ]
    },
    {
      "metadata": {
        "id": "-HZvjNNrav6a",
        "colab_type": "code",
        "outputId": "5410724f-5f45-4a7a-b56d-fcd7b63f11c8",
        "colab": {
          "base_uri": "https://localhost:8080/",
          "height": 34
        }
      },
      "cell_type": "code",
      "source": [
        "with open(FN_PKL, 'wb') as fp:\n",
        "  pickle.dump(fnames, fp)\n",
        "with open(VAL_PKL, 'wb') as fp:\n",
        "  pickle.dump(val_idxs, fp)\n",
        "shutil.copy(f'{FN_PKL}', DISK_PATH)\n",
        "shutil.copy(f'{VAL_PKL}', DISK_PATH)"
      ],
      "execution_count": 0,
      "outputs": [
        {
          "output_type": "execute_result",
          "data": {
            "text/plain": [
              "'drive/quick_draw/val_idxs_128sz_250.pkl'"
            ]
          },
          "metadata": {
            "tags": []
          },
          "execution_count": 53
        }
      ]
    },
    {
      "metadata": {
        "colab_type": "text",
        "id": "r8kBfuO9Br_e"
      },
      "cell_type": "markdown",
      "source": [
        "### Prepare data: load from *.txt"
      ]
    },
    {
      "metadata": {
        "colab_type": "code",
        "id": "bbiGvNGWBsAM",
        "colab": {}
      },
      "cell_type": "code",
      "source": [
        "NUM_SAMPLES_PER_CLASS = 200\n",
        "\n",
        "def create_train_txts_from_df(path):\n",
        "    df = pd.read_csv(path, nrows=NUM_SAMPLES_PER_CLASS)\n",
        "    klass = '_'.join(path.stem.split())\n",
        "    drawings = df.drawing.values\n",
        "    for i, drawing in enumerate(drawings):\n",
        "        fpth = TRN_PATH/f'{klass}-{i}.txt'\n",
        "        if fpth.exists(): continue\n",
        "        with open(fpth, mode='w') as f: f.write(drawing)\n",
        "\n",
        "def create_test_txts_from_df(path):\n",
        "    df = pd.read_csv(path)\n",
        "    kids = df.key_id.values\n",
        "    drawings = df.drawing.values\n",
        "    for kid, drawing in zip(kids, drawings):\n",
        "        with open(TEST_PATH/f'{kid}.txt', mode='w') as f: f.write(drawing)"
      ],
      "execution_count": 0,
      "outputs": []
    },
    {
      "metadata": {
        "colab_type": "code",
        "outputId": "dc2483c4-5b64-48f9-b7c7-c427609e8f8c",
        "id": "KlE1E4fvBsAS",
        "colab": {
          "base_uri": "https://localhost:8080/",
          "height": 54
        }
      },
      "cell_type": "code",
      "source": [
        "%%time\n",
        "with ThreadPoolExecutor(2) as e: e.map(create_train_txts_from_df, TRN_TXT_PATH.iterdir())"
      ],
      "execution_count": 0,
      "outputs": [
        {
          "output_type": "stream",
          "text": [
            "CPU times: user 12.4 s, sys: 11.2 s, total: 23.6 s\n",
            "Wall time: 15.4 s\n"
          ],
          "name": "stdout"
        }
      ]
    },
    {
      "metadata": {
        "colab_type": "code",
        "id": "oj_p2o57BsAb",
        "colab": {}
      },
      "cell_type": "code",
      "source": [
        "create_test_txts_from_df(PATH/'test_simplified.csv')"
      ],
      "execution_count": 0,
      "outputs": []
    },
    {
      "metadata": {
        "colab_type": "code",
        "outputId": "53a375e9-4e6b-419a-fc47-3c36f115dfdf",
        "id": "Dge-D6OzBsAf",
        "colab": {
          "base_uri": "https://localhost:8080/",
          "height": 108
        }
      },
      "cell_type": "code",
      "source": [
        "drawing_exts = ['.txt']\n",
        "def get_image_files(path, check_ext=True, recurse=False):\n",
        "  return [o for o in Path(path).glob('**/*' if recurse else '*')\n",
        "          if not o.name.startswith('.') and not o.is_dir()\n",
        "          and (not check_ext or o.suffix in drawing_exts)]\n",
        "\n",
        "fnames = get_image_files(TRN_PATH)\n",
        "test_fnames = get_image_files(TEST_PATH)\n",
        "val_idxs = get_cv_idxs(len(fnames))\n",
        "len(val_idxs), val_idxs[:2], len(fnames), fnames[:2]"
      ],
      "execution_count": 0,
      "outputs": [
        {
          "output_type": "execute_result",
          "data": {
            "text/plain": [
              "(13600,\n",
              " array([23742, 59794]),\n",
              " 68000,\n",
              " [PosixPath('data/quick_draw/train/pliers-101.txt'),\n",
              "  PosixPath('data/quick_draw/train/grapes-137.txt')])"
            ]
          },
          "metadata": {
            "tags": []
          },
          "execution_count": 79
        }
      ]
    },
    {
      "metadata": {
        "colab_type": "code",
        "outputId": "eda2356c-ea73-4ab1-a2d9-720c0eea2ce1",
        "id": "oELSvOgMBsAi",
        "colab": {
          "base_uri": "https://localhost:8080/",
          "height": 54
        }
      },
      "cell_type": "code",
      "source": [
        "labels = np.array([o.name.split('-')[0] for o in fnames])\n",
        "len(labels), labels[:5]"
      ],
      "execution_count": 0,
      "outputs": [
        {
          "output_type": "execute_result",
          "data": {
            "text/plain": [
              "(68000,\n",
              " array(['pliers', 'grapes', 'spreadsheet', 'calendar', 'pool'], dtype='<U23'))"
            ]
          },
          "metadata": {
            "tags": []
          },
          "execution_count": 80
        }
      ]
    },
    {
      "metadata": {
        "id": "lFZx5j6jFfLT",
        "colab_type": "code",
        "colab": {}
      },
      "cell_type": "code",
      "source": [
        "classes = np.unique(labels)"
      ],
      "execution_count": 0,
      "outputs": []
    },
    {
      "metadata": {
        "colab_type": "code",
        "outputId": "6a2235fa-6a40-4309-a851-e141266997e1",
        "id": "3o3SzV8bBsAq",
        "colab": {
          "base_uri": "https://localhost:8080/",
          "height": 54
        }
      },
      "cell_type": "code",
      "source": [
        "x_names = np.array(['train/' + o.name for o in fnames])\n",
        "test_x_names = np.array(['test/' + o.name for o in test_fnames])\n",
        "x_names[:2], test_x_names[:2]"
      ],
      "execution_count": 0,
      "outputs": [
        {
          "output_type": "execute_result",
          "data": {
            "text/plain": [
              "(array(['train/pliers-101.txt', 'train/grapes-137.txt'], dtype='<U37'),\n",
              " array(['test/9294575425747848.txt', 'test/9854825525933368.txt'], dtype='<U25'))"
            ]
          },
          "metadata": {
            "tags": []
          },
          "execution_count": 82
        }
      ]
    },
    {
      "metadata": {
        "colab_type": "code",
        "outputId": "a3bdf43d-6951-442a-db09-5aadab226621",
        "id": "yBQ3_jf4BsAs",
        "colab": {
          "base_uri": "https://localhost:8080/",
          "height": 35
        }
      },
      "cell_type": "code",
      "source": [
        "((val_x, trn_x), (val_y, trn_y)) = split_by_idx(val_idxs, x_names, labels)\n",
        "len(trn_x), len(trn_y), len(val_x), len(val_y)"
      ],
      "execution_count": 0,
      "outputs": [
        {
          "output_type": "execute_result",
          "data": {
            "text/plain": [
              "(54400, 54400, 13600, 13600)"
            ]
          },
          "metadata": {
            "tags": []
          },
          "execution_count": 83
        }
      ]
    },
    {
      "metadata": {
        "id": "zc_SpGrjI5o3",
        "colab_type": "code",
        "colab": {}
      },
      "cell_type": "code",
      "source": [
        "colors = [(255, 0, 0) , (255, 255, 0),  (128, 255, 0),  (0, 255, 0), (0, 255, 128), (0, 255, 255), \n",
        "          (0, 128, 255), (0, 0, 255), (128, 0, 255), (255, 0, 255)]\n",
        "BASE_SIZE = 256\n",
        "\n",
        "def draw_cv2(raw_strokes, size=256, lw=7, time_color=True):\n",
        "    img = np.zeros((BASE_SIZE, BASE_SIZE, 3), np.uint8)\n",
        "    for t, stroke in enumerate(raw_strokes):\n",
        "        for i in range(len(stroke[0]) - 1):\n",
        "            color = colors[min(t, len(colors)-1)]\n",
        "            _ = cv2.line(img, (stroke[0][i], stroke[1][i]),\n",
        "                         (stroke[0][i + 1], stroke[1][i + 1]), color, lw, lineType=cv2.LINE_AA)\n",
        "    if size != BASE_SIZE:\n",
        "        return cv2.resize(img, (size, size), interpolation=cv2.INTER_LINEAR)\n",
        "    else:\n",
        "        return img\n",
        "\n",
        "def gen_img(path):\n",
        "    with open(path) as f: drawing = eval(f.read())\n",
        "    return draw_cv2(drawing, size=sz)\n",
        "\n",
        "def open_image(fn):\n",
        "    if not os.path.exists(fn) and not str(fn).startswith(\"http\"):\n",
        "        raise OSError('No such file or directory: {}'.format(fn))\n",
        "    elif os.path.isdir(fn) and not str(fn).startswith(\"http\"):\n",
        "        raise OSError('Is a directory: {}'.format(fn))\n",
        "    else:\n",
        "        try:\n",
        "            return gen_img(str(fn)).astype(np.float32) / 255\n",
        "        except Exception as e:\n",
        "            raise OSError('Error handling image at: {}'.format(fn)) from e\n",
        "\n",
        "class DrawingDataset(FilesDataset):\n",
        "    def __init__(self, fnames, y, tfm, path, classes):\n",
        "        assert isinstance(classes, (list, np.ndarray)), 'classes must be label list.'\n",
        "        self.y, self.c = y, len(classes)\n",
        "        self.cls2id = {o:i for i, o in enumerate(classes)}\n",
        "        super().__init__(fnames, tfm, path)\n",
        "        \n",
        "    def get_y(self, i): return self.cls2id[self.y[i]]\n",
        "    def get_x(self, i): return open_image(os.path.join(self.path, self.fnames[i]))\n",
        "    def get_c(self): return self.c"
      ],
      "execution_count": 0,
      "outputs": []
    },
    {
      "metadata": {
        "id": "5da9YFGpI5uy",
        "colab_type": "code",
        "outputId": "115db6d6-c6bf-44cf-a6d2-f21f40525a3b",
        "colab": {
          "base_uri": "https://localhost:8080/",
          "height": 54
        }
      },
      "cell_type": "code",
      "source": [
        "arch = resnet34\n",
        "bs = 640\n",
        "sz = 128\n",
        "\n",
        "aug_tfms = [\n",
        "    RandomFlip(),\n",
        "#     RandomRotate(5, p=0.5),\n",
        "    RandomLighting(0.05, 0.05)\n",
        "]\n",
        "\n",
        "tfms = tfms_from_model(arch, sz, aug_tfms=aug_tfms, max_zoom=1.05)\n",
        "ds = ImageData.get_ds(DrawingDataset, (trn_x, trn_y), (val_x, val_y), tfms, test=test_x_names, path=PATH, classes=classes)\n",
        "md = ImageData(PATH, ds, bs, num_workers=8, classes=classes)\n",
        "md.c, md.classes[:3]"
      ],
      "execution_count": 0,
      "outputs": [
        {
          "output_type": "execute_result",
          "data": {
            "text/plain": [
              "(340,\n",
              " array(['The_Eiffel_Tower', 'The_Great_Wall_of_China', 'The_Mona_Lisa'], dtype='<U23'))"
            ]
          },
          "metadata": {
            "tags": []
          },
          "execution_count": 85
        }
      ]
    },
    {
      "metadata": {
        "id": "-OS4gaynI50h",
        "colab_type": "code",
        "outputId": "c33e1017-a740-483e-d4ce-486015ae4153",
        "colab": {
          "base_uri": "https://localhost:8080/",
          "height": 54
        }
      },
      "cell_type": "code",
      "source": [
        "%time x, y = next(iter(md.trn_dl))"
      ],
      "execution_count": 0,
      "outputs": [
        {
          "output_type": "stream",
          "text": [
            "CPU times: user 25.4 s, sys: 7.21 s, total: 32.6 s\n",
            "Wall time: 19.6 s\n"
          ],
          "name": "stdout"
        }
      ]
    },
    {
      "metadata": {
        "id": "VEvKZMpbI5x6",
        "colab_type": "code",
        "outputId": "16917840-116f-40e7-84d8-2eb62aa105a5",
        "colab": {
          "base_uri": "https://localhost:8080/",
          "height": 437
        }
      },
      "cell_type": "code",
      "source": [
        "x = md.trn_ds.denorm(x)\n",
        "fig, axes = plt.subplots(3, 3, figsize=(9, 6))\n",
        "for i, ax in enumerate(axes.flat):\n",
        "  ax.imshow(x[i])\n",
        "  ax.set_title(md.classes[y[i]])\n",
        "plt.tight_layout()"
      ],
      "execution_count": 0,
      "outputs": [
        {
          "output_type": "display_data",
          "data": {
            "image/png": "[encoded data removed]",
            "text/plain": [
              "<matplotlib.figure.Figure at 0x7f8bda6404e0>"
            ]
          },
          "metadata": {
            "tags": []
          }
        }
      ]
    },
    {
      "metadata": {
        "id": "GmuhEP6wKWnF",
        "colab_type": "text"
      },
      "cell_type": "markdown",
      "source": [
        "### MobileNet"
      ]
    },
    {
      "metadata": {
        "id": "ZqMhdMmxxEdY",
        "colab_type": "code",
        "outputId": "1c9d1e4c-c935-4789-e02b-43e214156de0",
        "colab": {
          "base_uri": "https://localhost:8080/",
          "height": 34
        }
      },
      "cell_type": "code",
      "source": [
        "mn = f'mobilenet_{sz}sz'\n",
        "mn"
      ],
      "execution_count": 0,
      "outputs": [
        {
          "output_type": "execute_result",
          "data": {
            "text/plain": [
              "'mobilenet_128sz'"
            ]
          },
          "metadata": {
            "tags": []
          },
          "execution_count": 27
        }
      ]
    },
    {
      "metadata": {
        "id": "gnbfF4BRKWDO",
        "colab_type": "code",
        "colab": {}
      },
      "cell_type": "code",
      "source": [
        "def std_conv(nin, nf, ks=3, stride=1):\n",
        "  return nn.Sequential(\n",
        "      nn.Conv2d(nin, nf, ks, stride, padding=ks//2, bias=False),\n",
        "      nn.BatchNorm2d(nf),\n",
        "      nn.ReLU(inplace=True)\n",
        "#       nn.LeakyReLU(inplace=True)\n",
        "  )\n",
        "\n",
        "def conv_dw(nin, nf, stride=2):\n",
        "  return nn.Sequential(\n",
        "      nn.Conv2d(nin, nin, 3, stride, 1, groups=nin, bias=False),\n",
        "      nn.BatchNorm2d(nin),\n",
        "      nn.ReLU(inplace=True),\n",
        "#       nn.LeakyReLU(inplace=True),\n",
        "      nn.Conv2d(nin, nf, 1, 1, bias=False),\n",
        "      nn.BatchNorm2d(nf),\n",
        "      nn.ReLU(inplace=True)\n",
        "#       nn.LeakyReLU(inplace=True)\n",
        "  )\n",
        "\n",
        "class MobileNet(nn.Module):\n",
        "  def __init__(self, num_classes, nf=512, ps=[0.25, 0.5]):\n",
        "    super().__init__()\n",
        "    self.layers = nn.Sequential(\n",
        "        std_conv(3, 32, 2),\n",
        "        conv_dw(32, 64, 1),\n",
        "        conv_dw(64, 128),\n",
        "        conv_dw(128, 128, 1),\n",
        "        conv_dw(128, 256),\n",
        "        conv_dw(256, 256, 1),\n",
        "        conv_dw(256, 512),\n",
        "        conv_dw(512, 512, 1),\n",
        "        conv_dw(512, 512, 1),\n",
        "        conv_dw(512, 512, 1),\n",
        "        conv_dw(512, 512, 1),\n",
        "        conv_dw(512, 512, 1),\n",
        "        conv_dw(512, 1024, 2),\n",
        "        conv_dw(1024, 1024, 1),\n",
        "        nn.AdaptiveAvgPool2d(1),\n",
        "        Flatten(),\n",
        "        nn.BatchNorm1d(1024),\n",
        "        nn.Dropout(p=ps[0]),\n",
        "        nn.Linear(1024, nf),\n",
        "        nn.ReLU(),\n",
        "        nn.BatchNorm1d(nf),\n",
        "        nn.Dropout(p=ps[1]),\n",
        "        nn.Linear(nf, num_classes),      \n",
        "        nn.LogSoftmax()\n",
        "    )\n",
        "\n",
        "  def forward(self, x):\n",
        "    return self.layers(x)"
      ],
      "execution_count": 0,
      "outputs": []
    },
    {
      "metadata": {
        "id": "JpWK-R1pQAc6",
        "colab_type": "code",
        "colab": {}
      },
      "cell_type": "code",
      "source": [
        "def map_top3(preds, targs):\n",
        "  top5 = torch.sort(preds, dim=1, descending=True)[0][:, :3]\n",
        "  return torch.mean(torch.sum(torch.exp(top5), 1))"
      ],
      "execution_count": 0,
      "outputs": []
    },
    {
      "metadata": {
        "id": "CXojUSNxx8L9",
        "colab_type": "code",
        "colab": {}
      },
      "cell_type": "code",
      "source": [
        "ps = [0.25, 0.5]\n",
        "nf = 512\n",
        "\n",
        "m = to_gpu(MobileNet(md.c, nf, ps))\n",
        "learn = ConvLearner.from_model_data(m, md)\n",
        "# learn.cirt = nn.CrossEntropyLoss()\n",
        "learn.metrics = [accuracy, map_top3]"
      ],
      "execution_count": 0,
      "outputs": []
    },
    {
      "metadata": {
        "id": "7AMEzlWKn2pr",
        "colab_type": "code",
        "colab": {}
      },
      "cell_type": "code",
      "source": [
        "# load_model_weights(subdir='20181105')\n",
        "# learn.load('mobilenet_64sz_5k')"
      ],
      "execution_count": 0,
      "outputs": []
    },
    {
      "metadata": {
        "id": "XHmBkolm5F0Y",
        "colab_type": "code",
        "outputId": "e894cadf-534b-4f8a-96fd-0bd5ebe38463",
        "colab": {
          "base_uri": "https://localhost:8080/",
          "height": 402
        }
      },
      "cell_type": "code",
      "source": [
        "learn.lr_find()\n",
        "learn.sched.plot()"
      ],
      "execution_count": 0,
      "outputs": [
        {
          "output_type": "display_data",
          "data": {
            "application/vnd.jupyter.widget-view+json": {
              "model_id": "b4cec0e470774810aaf12f042bc58d26",
              "version_minor": 0,
              "version_major": 2
            },
            "text/plain": [
              "HBox(children=(IntProgress(value=0, description='Epoch', max=1, style=ProgressStyle(description_width='initial…"
            ]
          },
          "metadata": {
            "tags": []
          }
        },
        {
          "output_type": "stream",
          "text": [
            " 87%|████████▋ | 743/850 [08:42<01:17,  1.37it/s, loss=24.3]"
          ],
          "name": "stdout"
        },
        {
          "output_type": "display_data",
          "data": {
            "image/png": "[encoded data removed]",
            "text/plain": [
              "<matplotlib.figure.Figure at 0x7f8b650bea90>"
            ]
          },
          "metadata": {
            "tags": []
          }
        }
      ]
    },
    {
      "metadata": {
        "id": "hYzokIxrxRTc",
        "colab_type": "code",
        "outputId": "a31a71fd-0ccf-4eda-dca3-0173d8717256",
        "colab": {
          "base_uri": "https://localhost:8080/",
          "height": 218
        }
      },
      "cell_type": "code",
      "source": [
        "lr = 8e-2\n",
        "learn.fit(lr, 1, cycle_len=10, use_clr=(20, 10))\n",
        "learn.save(mn)"
      ],
      "execution_count": 0,
      "outputs": [
        {
          "output_type": "display_data",
          "data": {
            "application/vnd.jupyter.widget-view+json": {
              "model_id": "df305c65a86f403a99a4b8dfb388b3c7",
              "version_minor": 0,
              "version_major": 2
            },
            "text/plain": [
              "HBox(children=(IntProgress(value=0, description='Epoch', max=10, style=ProgressStyle(description_width='initia…"
            ]
          },
          "metadata": {
            "tags": []
          }
        },
        {
          "output_type": "stream",
          "text": [
            "epoch      trn_loss   val_loss   accuracy   map_top3   \n",
            "    0      4.221134   3.929499   0.174265   0.373     \n",
            "    1      3.122172   2.83353    0.352059   0.528392  \n",
            "    2      2.647427   2.299856   0.460735   0.640049  \n",
            "    3      2.421247   2.322631   0.454706   0.634115  \n",
            "    4      2.163204   1.90709    0.545147   0.721836  \n",
            "    5      1.975682   1.765632   0.575662   0.747461  \n",
            "    6      1.821589   1.665574   0.603162   0.768702  \n",
            "    7      1.698267   1.60571    0.617794   0.786565  \n",
            "    8      1.58901    1.53894    0.634118   0.807489  \n",
            "    9      1.459088   1.491365   0.644044   0.82133   \n"
          ],
          "name": "stdout"
        }
      ]
    },
    {
      "metadata": {
        "id": "hDFt1Ut_T7dV",
        "colab_type": "text"
      },
      "cell_type": "markdown",
      "source": [
        "### Resnet34"
      ]
    },
    {
      "metadata": {
        "colab_type": "code",
        "id": "nWEqA455D66-",
        "colab": {}
      },
      "cell_type": "code",
      "source": [
        "models = ConvnetBuilder(arch, len(classes), False, False)\n",
        "learn = ConvLearner(md, models)"
      ],
      "execution_count": 0,
      "outputs": []
    },
    {
      "metadata": {
        "id": "I3n9cfKRDdnX",
        "colab_type": "code",
        "outputId": "19ae469b-4a61-4705-acf9-e3ea35f6d1b8",
        "colab": {
          "base_uri": "https://localhost:8080/",
          "height": 438
        }
      },
      "cell_type": "code",
      "source": [
        "learn.lr_find()\n",
        "learn.sched.plot(0)"
      ],
      "execution_count": 0,
      "outputs": [
        {
          "output_type": "display_data",
          "data": {
            "application/vnd.jupyter.widget-view+json": {
              "model_id": "4f8994f6abc24ae48078a885d6ab70e8",
              "version_minor": 0,
              "version_major": 2
            },
            "text/plain": [
              "HBox(children=(IntProgress(value=0, description='Epoch', max=1, style=ProgressStyle(description_width='initial…"
            ]
          },
          "metadata": {
            "tags": []
          }
        },
        {
          "output_type": "stream",
          "text": [
            "epoch      trn_loss   val_loss   accuracy   \n",
            "    0      5.329136   5.645055   0.206324  \n",
            "\n"
          ],
          "name": "stdout"
        },
        {
          "output_type": "display_data",
          "data": {
            "image/png": "[encoded data removed]",
            "text/plain": [
              "<matplotlib.figure.Figure at 0x7f8bd64d2fd0>"
            ]
          },
          "metadata": {
            "tags": []
          }
        }
      ]
    },
    {
      "metadata": {
        "id": "6gEI0hnwT-Vb",
        "colab_type": "code",
        "outputId": "b7cf3845-d5f9-48df-dcbd-da2b0eecf6db",
        "colab": {
          "base_uri": "https://localhost:8080/",
          "height": 145
        }
      },
      "cell_type": "code",
      "source": [
        "lr = 4e-1\n",
        "learn.fit(lr, 2, cycle_len=1, cycle_mult=2)"
      ],
      "execution_count": 0,
      "outputs": [
        {
          "output_type": "display_data",
          "data": {
            "application/vnd.jupyter.widget-view+json": {
              "model_id": "8854c90683ad4ff3819994e2f1b27224",
              "version_minor": 0,
              "version_major": 2
            },
            "text/plain": [
              "HBox(children=(IntProgress(value=0, description='Epoch', max=3, style=ProgressStyle(description_width='initial…"
            ]
          },
          "metadata": {
            "tags": []
          }
        },
        {
          "output_type": "stream",
          "text": [
            "epoch      trn_loss   val_loss   accuracy   \n",
            "    0      3.799521   3.013281   0.344265  \n",
            "    1      3.202584   2.542      0.418088  \n",
            "    2      2.804773   2.404532   0.445515  \n",
            "\n"
          ],
          "name": "stdout"
        },
        {
          "output_type": "execute_result",
          "data": {
            "text/plain": [
              "[2.4045316331526814, 0.4455147070043227]"
            ]
          },
          "metadata": {
            "tags": []
          },
          "execution_count": 92
        }
      ]
    },
    {
      "metadata": {
        "id": "qxsadDCBV1LX",
        "colab_type": "code",
        "outputId": "685c1016-f333-4070-bc26-71dd40e8a606",
        "colab": {
          "base_uri": "https://localhost:8080/",
          "height": 438
        }
      },
      "cell_type": "code",
      "source": [
        "learn.unfreeze()\n",
        "learn.lr_find(lr / 1000)\n",
        "learn.sched.plot()"
      ],
      "execution_count": 0,
      "outputs": [
        {
          "output_type": "display_data",
          "data": {
            "application/vnd.jupyter.widget-view+json": {
              "model_id": "22bfcedf882a4a77bb09166ebc2f3a9d",
              "version_minor": 0,
              "version_major": 2
            },
            "text/plain": [
              "HBox(children=(IntProgress(value=0, description='Epoch', max=1, style=ProgressStyle(description_width='initial…"
            ]
          },
          "metadata": {
            "tags": []
          }
        },
        {
          "output_type": "stream",
          "text": [
            "epoch      trn_loss   val_loss   accuracy   \n",
            "    0      3.380707   10646.408054 0.003162  \n",
            "\n"
          ],
          "name": "stdout"
        },
        {
          "output_type": "display_data",
          "data": {
            "image/png": "[encoded data removed]",
            "text/plain": [
              "<matplotlib.figure.Figure at 0x7f8bd7c8c550>"
            ]
          },
          "metadata": {
            "tags": []
          }
        }
      ]
    },
    {
      "metadata": {
        "id": "AO_xu2Kbce6L",
        "colab_type": "code",
        "outputId": "fe43a7d9-4b92-4039-c484-71cb5eec2142",
        "colab": {
          "base_uri": "https://localhost:8080/",
          "height": 302
        }
      },
      "cell_type": "code",
      "source": [
        "lr = 8e-4\n",
        "lrs = np.array([lr / 9, lr / 3, lr])\n",
        "learn.fit(lrs, 3, cycle_len=2, cycle_mult=2)"
      ],
      "execution_count": 0,
      "outputs": [
        {
          "output_type": "display_data",
          "data": {
            "application/vnd.jupyter.widget-view+json": {
              "model_id": "582ea40bfe004ddf8cb1204f1c02bc82",
              "version_minor": 0,
              "version_major": 2
            },
            "text/plain": [
              "HBox(children=(IntProgress(value=0, description='Epoch', max=14, style=ProgressStyle(description_width='initia…"
            ]
          },
          "metadata": {
            "tags": []
          }
        },
        {
          "output_type": "stream",
          "text": [
            "epoch      trn_loss   val_loss   accuracy   \n",
            "    0      2.496831   2.085892   0.510588  \n",
            "    1      2.305883   2.030547   0.520294  \n",
            "    2      2.123826   1.874482   0.554559  \n",
            "    3      2.017922   1.802687   0.5675    \n",
            "    4      1.924573   1.772526   0.577059  \n",
            "    5      1.901727   1.768791   0.578382  \n",
            "    6      1.890097   1.712933   0.589559  \n",
            "    7      1.868803   1.668383   0.597059  \n",
            "    8      1.666557   1.637589   0.605     \n",
            "    9      1.597122   1.614383   0.608088  \n",
            "    10     1.609161   1.599738   0.610882  \n",
            "    11     1.522107   1.590971   0.613529  \n",
            "    12     1.544126   1.593027   0.612059  \n",
            "    13     1.543969   1.589572   0.613603  \n"
          ],
          "name": "stdout"
        },
        {
          "output_type": "execute_result",
          "data": {
            "text/plain": [
              "[1.5895717581580666, 0.6136029411764706]"
            ]
          },
          "metadata": {
            "tags": []
          },
          "execution_count": 63
        }
      ]
    },
    {
      "metadata": {
        "id": "VaSdrsotKHTI",
        "colab_type": "code",
        "colab": {}
      },
      "cell_type": "code",
      "source": [
        "pa = f'resnet34_{sz}sz'\n",
        "learn.save(pa)"
      ],
      "execution_count": 0,
      "outputs": []
    },
    {
      "metadata": {
        "id": "ZL6CU938LF4V",
        "colab_type": "code",
        "colab": {}
      },
      "cell_type": "code",
      "source": [
        "learn.metrics = [accuracy, map_top3]"
      ],
      "execution_count": 0,
      "outputs": []
    },
    {
      "metadata": {
        "id": "Y5OtrrxZOcez",
        "colab_type": "code",
        "colab": {}
      },
      "cell_type": "code",
      "source": [
        "save_model_weights()"
      ],
      "execution_count": 0,
      "outputs": []
    },
    {
      "metadata": {
        "id": "Rh2uGjT9f8qy",
        "colab_type": "code",
        "colab": {}
      },
      "cell_type": "code",
      "source": [
        "learn.fit(lrs, 1, cycle_len=10, use_clr=(20, 10))"
      ],
      "execution_count": 0,
      "outputs": []
    },
    {
      "metadata": {
        "id": "1lDKL1KadkvU",
        "colab_type": "text"
      },
      "cell_type": "markdown",
      "source": [
        "### Submission"
      ]
    },
    {
      "metadata": {
        "id": "80HUPmVcQ3Ds",
        "colab_type": "code",
        "outputId": "ae3b130d-f5d2-4112-a171-8b16c757587f",
        "colab": {
          "base_uri": "https://localhost:8080/",
          "height": 17
        }
      },
      "cell_type": "code",
      "source": [
        "preds = learn.TTA(is_test=True)[0]"
      ],
      "execution_count": 0,
      "outputs": [
        {
          "output_type": "stream",
          "text": [
            ""
          ],
          "name": "stdout"
        }
      ]
    },
    {
      "metadata": {
        "id": "wXpnsQvfg54A",
        "colab_type": "code",
        "outputId": "d0e6f0e0-5862-4c40-9c0c-6f62e7b671ad",
        "colab": {
          "base_uri": "https://localhost:8080/",
          "height": 34
        }
      },
      "cell_type": "code",
      "source": [
        "preds.shape"
      ],
      "execution_count": 0,
      "outputs": [
        {
          "output_type": "execute_result",
          "data": {
            "text/plain": [
              "(5, 112199, 340)"
            ]
          },
          "metadata": {
            "tags": []
          },
          "execution_count": 78
        }
      ]
    },
    {
      "metadata": {
        "id": "_5EXNaAPh3U6",
        "colab_type": "code",
        "outputId": "5cf93d6f-f154-47de-e0b8-2b645fa02397",
        "colab": {
          "base_uri": "https://localhost:8080/",
          "height": 34
        }
      },
      "cell_type": "code",
      "source": [
        "pr = np.mean(np.exp(preds), 0)\n",
        "pr.shape"
      ],
      "execution_count": 0,
      "outputs": [
        {
          "output_type": "execute_result",
          "data": {
            "text/plain": [
              "(112199, 340)"
            ]
          },
          "metadata": {
            "tags": []
          },
          "execution_count": 79
        }
      ]
    },
    {
      "metadata": {
        "id": "ejCyEXulidR7",
        "colab_type": "code",
        "colab": {}
      },
      "cell_type": "code",
      "source": [
        "top_3 = np.argsort(pr)[:, ::-1][:, :3]\n",
        "cat = np.array([' '.join(str(md.classes[i]) for i in o) for o in top_3])\n",
        "image = md.test_ds.fnames"
      ],
      "execution_count": 0,
      "outputs": []
    },
    {
      "metadata": {
        "id": "Vck1nG75jO8W",
        "colab_type": "code",
        "outputId": "7bc7ad6b-0d46-4922-8658-e809413f632d",
        "colab": {
          "base_uri": "https://localhost:8080/",
          "height": 203
        }
      },
      "cell_type": "code",
      "source": [
        "submission = pd.DataFrame({'key_id': image, 'word': cat})\n",
        "submission.head()"
      ],
      "execution_count": 0,
      "outputs": [
        {
          "output_type": "execute_result",
          "data": {
            "text/html": [
              "<div>\n",
              "<style scoped>\n",
              "    .dataframe tbody tr th:only-of-type {\n",
              "        vertical-align: middle;\n",
              "    }\n",
              "\n",
              "    .dataframe tbody tr th {\n",
              "        vertical-align: top;\n",
              "    }\n",
              "\n",
              "    .dataframe thead th {\n",
              "        text-align: right;\n",
              "    }\n",
              "</style>\n",
              "<table border=\"1\" class=\"dataframe\">\n",
              "  <thead>\n",
              "    <tr style=\"text-align: right;\">\n",
              "      <th></th>\n",
              "      <th>key_id</th>\n",
              "      <th>word</th>\n",
              "    </tr>\n",
              "  </thead>\n",
              "  <tbody>\n",
              "    <tr>\n",
              "      <th>0</th>\n",
              "      <td>test_128/9028014602137518.png</td>\n",
              "      <td>banana elbow matches</td>\n",
              "    </tr>\n",
              "    <tr>\n",
              "      <th>1</th>\n",
              "      <td>test_128/9325698402591604.png</td>\n",
              "      <td>paint_can hot_tub cake</td>\n",
              "    </tr>\n",
              "    <tr>\n",
              "      <th>2</th>\n",
              "      <td>test_128/9791244567109262.png</td>\n",
              "      <td>string_bean feather dolphin</td>\n",
              "    </tr>\n",
              "    <tr>\n",
              "      <th>3</th>\n",
              "      <td>test_128/9396277400422292.png</td>\n",
              "      <td>bulldozer tractor car</td>\n",
              "    </tr>\n",
              "    <tr>\n",
              "      <th>4</th>\n",
              "      <td>test_128/9037773561277176.png</td>\n",
              "      <td>flamingo giraffe saxophone</td>\n",
              "    </tr>\n",
              "  </tbody>\n",
              "</table>\n",
              "</div>"
            ],
            "text/plain": [
              "                          key_id                         word\n",
              "0  test_128/9028014602137518.png         banana elbow matches\n",
              "1  test_128/9325698402591604.png       paint_can hot_tub cake\n",
              "2  test_128/9791244567109262.png  string_bean feather dolphin\n",
              "3  test_128/9396277400422292.png        bulldozer tractor car\n",
              "4  test_128/9037773561277176.png   flamingo giraffe saxophone"
            ]
          },
          "metadata": {
            "tags": []
          },
          "execution_count": 81
        }
      ]
    },
    {
      "metadata": {
        "id": "DBuk-R0pkxVE",
        "colab_type": "code",
        "outputId": "3ca19c2e-cf67-49da-9624-f159df3f60f0",
        "colab": {
          "base_uri": "https://localhost:8080/",
          "height": 203
        }
      },
      "cell_type": "code",
      "source": [
        "submission.key_id = submission.key_id.str.replace('^test_128/', '')\n",
        "# submission.key_id = submission.key_id.str.replace('^test_64/', '')\n",
        "# submission.key_id = submission.key_id.str.replace('^test_32/', '')\n",
        "submission.key_id = submission.key_id.str.replace('.png$', '')\n",
        "submission.head()"
      ],
      "execution_count": 0,
      "outputs": [
        {
          "output_type": "execute_result",
          "data": {
            "text/html": [
              "<div>\n",
              "<style scoped>\n",
              "    .dataframe tbody tr th:only-of-type {\n",
              "        vertical-align: middle;\n",
              "    }\n",
              "\n",
              "    .dataframe tbody tr th {\n",
              "        vertical-align: top;\n",
              "    }\n",
              "\n",
              "    .dataframe thead th {\n",
              "        text-align: right;\n",
              "    }\n",
              "</style>\n",
              "<table border=\"1\" class=\"dataframe\">\n",
              "  <thead>\n",
              "    <tr style=\"text-align: right;\">\n",
              "      <th></th>\n",
              "      <th>key_id</th>\n",
              "      <th>word</th>\n",
              "    </tr>\n",
              "  </thead>\n",
              "  <tbody>\n",
              "    <tr>\n",
              "      <th>0</th>\n",
              "      <td>9028014602137518</td>\n",
              "      <td>banana elbow matches</td>\n",
              "    </tr>\n",
              "    <tr>\n",
              "      <th>1</th>\n",
              "      <td>9325698402591604</td>\n",
              "      <td>paint_can hot_tub cake</td>\n",
              "    </tr>\n",
              "    <tr>\n",
              "      <th>2</th>\n",
              "      <td>9791244567109262</td>\n",
              "      <td>string_bean feather dolphin</td>\n",
              "    </tr>\n",
              "    <tr>\n",
              "      <th>3</th>\n",
              "      <td>9396277400422292</td>\n",
              "      <td>bulldozer tractor car</td>\n",
              "    </tr>\n",
              "    <tr>\n",
              "      <th>4</th>\n",
              "      <td>9037773561277176</td>\n",
              "      <td>flamingo giraffe saxophone</td>\n",
              "    </tr>\n",
              "  </tbody>\n",
              "</table>\n",
              "</div>"
            ],
            "text/plain": [
              "             key_id                         word\n",
              "0  9028014602137518         banana elbow matches\n",
              "1  9325698402591604       paint_can hot_tub cake\n",
              "2  9791244567109262  string_bean feather dolphin\n",
              "3  9396277400422292        bulldozer tractor car\n",
              "4  9037773561277176   flamingo giraffe saxophone"
            ]
          },
          "metadata": {
            "tags": []
          },
          "execution_count": 83
        }
      ]
    },
    {
      "metadata": {
        "id": "8KDhjhQRmsZX",
        "colab_type": "code",
        "colab": {}
      },
      "cell_type": "code",
      "source": [
        "submission.to_csv('submission.csv.gz', index=False, compression='gzip')"
      ],
      "execution_count": 0,
      "outputs": []
    },
    {
      "metadata": {
        "id": "izVvIj7jm6HL",
        "colab_type": "code",
        "outputId": "9ca8bcd1-096a-46a0-f579-83c66ff50c11",
        "colab": {
          "base_uri": "https://localhost:8080/",
          "height": 52
        }
      },
      "cell_type": "code",
      "source": [
        "!kaggle competitions submit -c quickdraw-doodle-recognition -f submission.csv.gz -m \"\""
      ],
      "execution_count": 0,
      "outputs": [
        {
          "output_type": "stream",
          "text": [
            "100% 1.57M/1.57M [00:04<00:00, 348kB/s]\n",
            "Successfully submitted to Quick, Draw! Doodle Recognition Challenge"
          ],
          "name": "stdout"
        }
      ]
    },
    {
      "metadata": {
        "id": "G97vJuTjkK05",
        "colab_type": "code",
        "outputId": "103b1aff-5a27-4f87-b94b-a8cf8799d776",
        "colab": {
          "base_uri": "https://localhost:8080/",
          "height": 140
        }
      },
      "cell_type": "code",
      "source": [
        "!kaggle competitions submissions -c quickdraw-doodle-recognition"
      ],
      "execution_count": 0,
      "outputs": [
        {
          "output_type": "stream",
          "text": [
            "fileName           date                 description  status    publicScore  privateScore  \n",
            "-----------------  -------------------  -----------  --------  -----------  ------------  \n",
            "submission.csv.gz  2018-11-10 07:05:27               complete  0.788        None          \n",
            "submission.csv.gz  2018-11-06 08:23:56               complete  0.833        None          \n",
            "submission.csv.gz  2018-11-06 08:22:05               error     None         None          \n",
            "submission.csv.gz  2018-11-01 09:31:01               complete  0.740        None          \n",
            "submission.csv     2018-11-01 09:26:52               error     None         None          \n"
          ],
          "name": "stdout"
        }
      ]
    },
    {
      "metadata": {
        "id": "0ISOsP1okK8G",
        "colab_type": "code",
        "colab": {}
      },
      "cell_type": "code",
      "source": [
        ""
      ],
      "execution_count": 0,
      "outputs": []
    }
  ]
}